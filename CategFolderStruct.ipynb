{
 "cells": [
  {
   "cell_type": "code",
   "execution_count": null,
   "metadata": {},
   "outputs": [],
   "source": [
    "import os\n",
    "import shutil"
   ]
  },
  {
   "cell_type": "code",
   "execution_count": null,
   "metadata": {},
   "outputs": [],
   "source": [
    "path = open('C:/Users/kheen/Documents/food-101-keras/food-101/food-101/meta/classes.txt','r')\n",
    "labels = path.readlines()\n",
    "classes = []\n",
    "for line in labels:\n",
    "    line = line.strip('\\n')\n",
    "    classes.append(line)\n",
    "#classes contain name of all 101 labels"
   ]
  },
  {
   "cell_type": "code",
   "execution_count": null,
   "metadata": {},
   "outputs": [],
   "source": [
    "#Creating folder data\n",
    "dirNames = 'C:/Users/kheen/Documents/food-101-keras/food-101/food-101/'\n",
    "for i in range(len(classes)):\n",
    "        try:\n",
    "            dirName = dirNames + 'data'\n",
    "            # Create target Directory\n",
    "            os.mkdir(dirName)\n",
    "            print(\"Directory \" , dirName ,  \" Created \") \n",
    "        except FileExistsError:\n",
    "            print(\"Directory \" , dirName ,  \" already exists\")"
   ]
  },
  {
   "cell_type": "code",
   "execution_count": null,
   "metadata": {},
   "outputs": [],
   "source": [
    "#Creating 101 subfolder for Directory structure inside forlder data\n",
    "valDirPath = 'C:/Users/kheen/Documents/food-101-keras/food-101/food-101/data/Validate/'\n",
    "testDirPath = 'C:/Users/kheen/Documents/food-101-keras/food-101/food-101/data/test/'\n",
    "trainDirPath = 'C:/Users/kheen/Documents/food-101-keras/food-101/food-101/data/train/'\n",
    "           \n",
    "for i in range(len(classes)):\n",
    "        try:\n",
    "            valdirName = valDirPath + classes[i]\n",
    "            os.mkdir(valdirName)\n",
    "            \n",
    "        except FileExistsError:\n",
    "            print(\"Validate Directory \" , valdirName ,  \" already exists\")\n",
    "for i in range(len(classes)):\n",
    "        try:\n",
    "            testdirName = testDirPath + classes[i]\n",
    "            os.mkdir(testdirName)\n",
    "             \n",
    "        except FileExistsError:\n",
    "            print(\"Test Directory \" , testdirName ,  \" already exists\")\n",
    "for i in range(len(classes)):\n",
    "        try:\n",
    "            traindirName = trainDirPath + classes[i]\n",
    "            os.mkdir(traindirName)\n",
    "             \n",
    "        except FileExistsError:\n",
    "            print(\"Train Directory \" , traindirName ,  \" already exists\")"
   ]
  },
  {
   "cell_type": "code",
   "execution_count": null,
   "metadata": {},
   "outputs": [],
   "source": [
    "#Copy all files in meta test file into Test Foder\n",
    "url = 'C:/Users/kheen/Documents/food-101-keras/food-101/food-101/data/test/'\n",
    "oldurl = 'C:/Users/kheen/Documents/food-101-keras/food-101/food-101/images/'\n",
    "path = open('C:/Users/kheen/Documents/food-101-keras/food-101/food-101/meta/test.txt','r')\n",
    "mypath = path.readlines()\n",
    "oldpath = []\n",
    "testpath = []\n",
    "for line in mypath:\n",
    "    line = line.strip('\\n')\n",
    "    line, file = line.split('/')\n",
    "    testpath.append(url + line)\n",
    "    oldpath.append(oldurl + line+ '/' + file + '.jpg')\n",
    "print( \"Copy To \",testpath[0])\n",
    "print(\"Copy From \", oldpath[0])"
   ]
  },
  {
   "cell_type": "code",
   "execution_count": null,
   "metadata": {},
   "outputs": [],
   "source": [
    "for i in range(len(testpath)):\n",
    "        newPath = shutil.copy(oldpath[i], testpath[i])"
   ]
  },
  {
   "cell_type": "code",
   "execution_count": null,
   "metadata": {},
   "outputs": [],
   "source": [
    "#Copy all files in meta train file into Midd Foder to further divide it into train and validate\n",
    "url = 'C:/Users/kheen/Documents/food-101-keras/food-101/food-101/data/midd/'\n",
    "oldurl = 'C:/Users/kheen/Documents/food-101-keras/food-101/food-101/images/'\n",
    "path = open('C:/Users/kheen/Documents/food-101-keras/food-101/food-101/meta/train.txt','r')\n",
    "mypath = path.readlines()\n",
    "oldpath = []\n",
    "trainpath = []\n",
    "for line in mypath:\n",
    "    line = line.strip('\\n')\n",
    "    line, file = line.split('/')\n",
    "    trainpath.append(url + line)\n",
    "    oldpath.append(oldurl + line+ '/' + file + '.jpg')\n",
    "print( \"Copy To \",trainpath[0])\n",
    "print(\"Copy From \", oldpath[0])"
   ]
  },
  {
   "cell_type": "code",
   "execution_count": null,
   "metadata": {},
   "outputs": [],
   "source": [
    "for i in range(len(trainpath)):\n",
    "        newPath = shutil.copy(oldpath[i], trainpath[i])"
   ]
  },
  {
   "cell_type": "code",
   "execution_count": null,
   "metadata": {},
   "outputs": [],
   "source": [
    "#Dsitribute data from Midd-Folder to train and validate\n",
    "url = 'C:/Users/kheen/Documents/food-101-keras/food-101/food-101/data/train/'\n",
    "oldurl = 'C:/Users/kheen/Documents/food-101-keras/food-101/food-101/data/midd/'\n",
    "val = 'C:/Users/kheen/Documents/food-101-keras/food-101/food-101/data/Validate/'\n",
    "path = open('C:/Users/kheen/Documents/food-101-keras/food-101/food-101/meta/train.txt','r')\n",
    "mypath = path.readlines()\n",
    "oldpath = []\n",
    "train_val_path = []\n",
    "m = 0\n",
    "for line in mypath:\n",
    "    m = m + 1\n",
    "    line = line.strip('\\n')\n",
    "    line, file = line.split('/')\n",
    "    if m == 751:\n",
    "        m = 1\n",
    "    if m <= 100:\n",
    "        train_val_path.append(val + line)\n",
    "    else:\n",
    "        train_val_path.append(url + line)\n",
    "    oldpath.append(oldurl + line+ '/' + file + '.jpg')\n",
    "print( train_val_path[0], oldpath[0])"
   ]
  },
  {
   "cell_type": "code",
   "execution_count": null,
   "metadata": {},
   "outputs": [],
   "source": [
    "#copying file\n",
    "for i in range(len(train_val_path)):\n",
    "        newPath = shutil.copy(oldpath[i], train_val_path[i])"
   ]
  },
  {
   "cell_type": "code",
   "execution_count": null,
   "metadata": {},
   "outputs": [],
   "source": []
  },
  {
   "cell_type": "code",
   "execution_count": null,
   "metadata": {},
   "outputs": [],
   "source": []
  },
  {
   "cell_type": "code",
   "execution_count": null,
   "metadata": {},
   "outputs": [],
   "source": []
  },
  {
   "cell_type": "code",
   "execution_count": null,
   "metadata": {},
   "outputs": [],
   "source": []
  },
  {
   "cell_type": "code",
   "execution_count": null,
   "metadata": {},
   "outputs": [],
   "source": []
  }
 ],
 "metadata": {
  "kernelspec": {
   "display_name": "Python 3",
   "language": "python",
   "name": "python3"
  },
  "language_info": {
   "codemirror_mode": {
    "name": "ipython",
    "version": 3
   },
   "file_extension": ".py",
   "mimetype": "text/x-python",
   "name": "python",
   "nbconvert_exporter": "python",
   "pygments_lexer": "ipython3",
   "version": "3.6.10"
  }
 },
 "nbformat": 4,
 "nbformat_minor": 4
}
