{
 "cells": [
  {
   "cell_type": "code",
   "execution_count": 2,
   "metadata": {},
   "outputs": [],
   "source": [
    "SEED = 42\n",
    "from random import seed as py_seed\n",
    "py_seed(SEED)\n",
    "from numpy.random import seed as np_seed\n",
    "np_seed(SEED)\n",
    "from tensorflow import random as tf_random\n",
    "tf_random.set_seed(SEED)"
   ]
  },
  {
   "cell_type": "code",
   "execution_count": 3,
   "metadata": {},
   "outputs": [
    {
     "name": "stderr",
     "output_type": "stream",
     "text": [
      "Using TensorFlow backend.\n"
     ]
    }
   ],
   "source": [
    "from keras.preprocessing.image import ImageDataGenerator\n",
    "from keras.models import Sequential, load_model\n",
    "from keras.layers import Dense, Dropout, Flatten, Activation, GlobalAveragePooling2D\n",
    "from keras.optimizers import Adam, SGD, RMSprop\n",
    "from keras.utils import np_utils\n",
    "from keras.models import load_model\n",
    "from keras.applications.mobilenet import MobileNet\n",
    "from keras.applications.mobilenet_v2 import MobileNetV2\n",
    "from keras.applications.nasnet import NASNetMobile\n",
    "import matplotlib.pyplot as plt\n",
    "import numpy as np\n",
    "import pandas as pd\n",
    "from pathlib import Path\n",
    "import random\n",
    "from sklearn.model_selection import KFold, train_test_split\n"
   ]
  },
  {
   "cell_type": "code",
   "execution_count": 5,
   "metadata": {},
   "outputs": [
    {
     "name": "stdout",
     "output_type": "stream",
     "text": [
      "['ramen', 'carrot_cake', 'beef_carpaccio', 'takoyaki', 'filet_mignon', 'edamame', 'deviled_eggs', 'chicken_quesadilla', 'ceviche', 'strawberry_shortcake', 'pizza', 'cannoli', 'samosa', 'macaroni_and_cheese', 'beet_salad', 'beef_tartare', 'cheesecake', 'fish_and_chips', 'french_onion_soup', 'prime_rib', 'tacos', 'beignets', 'spaghetti_bolognese', 'falafel', 'shrimp_and_grits']\n"
     ]
    }
   ],
   "source": [
    "# Data comes from here. This should contain a bunch of folders of classes, each containing examples\n",
    "DATA_PATH = Path('C:/Users/kheen/Documents/5850/food-101/food-101/images')\n",
    "\n",
    "# Get class (folder) names\n",
    "classes = sorted([entry.name for entry in DATA_PATH.iterdir() if entry.is_dir()])\n",
    "\n",
    "label_list = classes\n",
    "labels = []\n",
    "for i in range(25):\n",
    "    num =  random.randint(0, (100 - i))\n",
    "    labels.append(label_list[num])\n",
    "    label_list.pop(num)\n",
    "print(labels)\n",
    "classes = labels\n",
    "        \n",
    "# Load list of filenames and classes, and convert to numpy array to allow array slicing \n",
    "# For k-fold validation\n",
    "dataset = np.array([\n",
    "    (f\"{clazz}/{entry.name}\", clazz)\n",
    "    for clazz in classes\n",
    "    for entry in (DATA_PATH / clazz).iterdir()\n",
    "])"
   ]
  },
  {
   "cell_type": "code",
   "execution_count": 6,
   "metadata": {},
   "outputs": [],
   "source": [
    "# create data generators\n",
    "\n",
    "# Rescale 0-255 to 0-1\n",
    "RESCALE=1./255\n",
    "\n",
    "# This type of data generator is used to train the model\n",
    "train_datagen = ImageDataGenerator(\n",
    "    rescale=RESCALE,\n",
    "    # Factors used to control\n",
    "    rotation_range=45,  # randomly rotate images in the range (degrees, 0 to 180)\n",
    "    width_shift_range=0.125,  # randomly shift images horizontally (fraction of total width)\n",
    "    height_shift_range=0.125,  # randomly shift images vertically (fraction of total height)\n",
    "    horizontal_flip=True,  # randomly flip images\n",
    "\n",
    ")\n",
    "\n",
    "# This type of generator is used to test the model\n",
    "test_datagen = ImageDataGenerator(\n",
    "    rescale=RESCALE,\n",
    ")\n",
    "\n"
   ]
  },
  {
   "cell_type": "code",
   "execution_count": 7,
   "metadata": {},
   "outputs": [],
   "source": [
    "def create_model(input_shape, num_classes):\n",
    "    # Base model, with weights pre-trained on ImageNet.\n",
    "    base_model = NASNetMobile(input_shape, weights='imagenet', include_top=False)\n",
    "\n",
    "    for layer in base_model.layers:\n",
    "        layer.trainable = False\n",
    "\n",
    "    model = Sequential()\n",
    "    model.add(base_model)\n",
    "    model.add(GlobalAveragePooling2D())\n",
    "    model.add(Dropout(0.5))\n",
    "    model.add(Dense(num_classes, activation='softmax'))\n",
    "    optimizer = RMSprop()\n",
    "\n",
    "    model.compile(\n",
    "        loss = 'categorical_crossentropy',\n",
    "        optimizer = optimizer,\n",
    "        metrics = ['accuracy']\n",
    "    )\n",
    "    \n",
    "    return model"
   ]
  },
  {
   "cell_type": "code",
   "execution_count": 12,
   "metadata": {},
   "outputs": [
    {
     "name": "stdout",
     "output_type": "stream",
     "text": [
      "[    0     1     2 ... 24996 24997 24998] [   17    29    30 ... 24986 24988 24999]\n",
      "Fold 1 of 5\n",
      "Found 22500 validated image filenames belonging to 25 classes.\n",
      "Found 2500 validated image filenames belonging to 25 classes.\n"
     ]
    },
    {
     "name": "stderr",
     "output_type": "stream",
     "text": [
      "ERROR:root:Internal Python error in the inspect module.\n",
      "Below is the traceback from this internal error.\n",
      "\n"
     ]
    },
    {
     "name": "stdout",
     "output_type": "stream",
     "text": [
      "Traceback (most recent call last):\n",
      "  File \"C:\\Users\\kheen\\Anaconda3\\envs\\ThreeSeven\\lib\\site-packages\\IPython\\core\\interactiveshell.py\", line 3331, in run_code\n",
      "    exec(code_obj, self.user_global_ns, self.user_ns)\n",
      "  File \"<ipython-input-12-f8ec5d5f4189>\", line 70, in <module>\n",
      "    model = create_model(input_shape, num_classes)\n",
      "  File \"<ipython-input-7-2711f3dfb2f7>\", line 3, in create_model\n",
      "    base_model = NASNetMobile(input_shape, weights='imagenet', include_top=False)\n",
      "  File \"C:\\Users\\kheen\\Anaconda3\\envs\\ThreeSeven\\lib\\site-packages\\keras\\applications\\__init__.py\", line 20, in wrapper\n",
      "    return base_fun(*args, **kwargs)\n",
      "  File \"C:\\Users\\kheen\\Anaconda3\\envs\\ThreeSeven\\lib\\site-packages\\keras\\applications\\nasnet.py\", line 11, in NASNetMobile\n",
      "    return nasnet.NASNetMobile(*args, **kwargs)\n",
      "  File \"C:\\Users\\kheen\\Anaconda3\\envs\\ThreeSeven\\lib\\site-packages\\keras_applications\\nasnet.py\", line 433, in NASNetMobile\n",
      "    **kwargs)\n",
      "  File \"C:\\Users\\kheen\\Anaconda3\\envs\\ThreeSeven\\lib\\site-packages\\keras_applications\\nasnet.py\", line 210, in NASNet\n",
      "    axis=channel_dim, momentum=0.9997, epsilon=1e-3, name='stem_bn1')(x)\n",
      "  File \"C:\\Users\\kheen\\Anaconda3\\envs\\ThreeSeven\\lib\\site-packages\\keras\\backend\\tensorflow_backend.py\", line 75, in symbolic_fn_wrapper\n",
      "    return func(*args, **kwargs)\n",
      "  File \"C:\\Users\\kheen\\Anaconda3\\envs\\ThreeSeven\\lib\\site-packages\\keras\\engine\\base_layer.py\", line 489, in __call__\n",
      "    output = self.call(inputs, **kwargs)\n",
      "  File \"C:\\Users\\kheen\\Anaconda3\\envs\\ThreeSeven\\lib\\site-packages\\keras\\layers\\normalization.py\", line 185, in call\n",
      "    epsilon=self.epsilon)\n",
      "  File \"C:\\Users\\kheen\\Anaconda3\\envs\\ThreeSeven\\lib\\site-packages\\keras\\backend\\tensorflow_backend.py\", line 2320, in normalize_batch_in_training\n",
      "    epsilon=epsilon)\n",
      "  File \"C:\\Users\\kheen\\Anaconda3\\envs\\ThreeSeven\\lib\\site-packages\\keras\\backend\\tensorflow_backend.py\", line 2190, in _regular_normalize_batch_in_training\n",
      "    None, None, False)\n",
      "  File \"C:\\Users\\kheen\\Anaconda3\\envs\\ThreeSeven\\lib\\site-packages\\tensorflow_core\\python\\ops\\nn_impl.py\", line 1268, in moments_v2\n",
      "    return moments(x=x, axes=axes, shift=shift, name=name, keep_dims=keepdims)\n",
      "  File \"C:\\Users\\kheen\\Anaconda3\\envs\\ThreeSeven\\lib\\site-packages\\tensorflow_core\\python\\ops\\nn_impl.py\", line 1224, in moments\n",
      "    name=\"variance\")\n",
      "  File \"C:\\Users\\kheen\\Anaconda3\\envs\\ThreeSeven\\lib\\site-packages\\tensorflow_core\\python\\util\\dispatch.py\", line 180, in wrapper\n",
      "    return target(*args, **kwargs)\n",
      "  File \"C:\\Users\\kheen\\Anaconda3\\envs\\ThreeSeven\\lib\\site-packages\\tensorflow_core\\python\\ops\\math_ops.py\", line 1912, in reduce_mean\n",
      "    name=name))\n",
      "  File \"C:\\Users\\kheen\\Anaconda3\\envs\\ThreeSeven\\lib\\site-packages\\tensorflow_core\\python\\ops\\gen_math_ops.py\", line 5852, in mean\n",
      "    name=name)\n",
      "  File \"C:\\Users\\kheen\\Anaconda3\\envs\\ThreeSeven\\lib\\site-packages\\tensorflow_core\\python\\framework\\op_def_library.py\", line 742, in _apply_op_helper\n",
      "    attrs=attr_protos, op_def=op_def)\n",
      "  File \"C:\\Users\\kheen\\Anaconda3\\envs\\ThreeSeven\\lib\\site-packages\\tensorflow_core\\python\\framework\\func_graph.py\", line 595, in _create_op_internal\n",
      "    compute_device)\n",
      "  File \"C:\\Users\\kheen\\Anaconda3\\envs\\ThreeSeven\\lib\\site-packages\\tensorflow_core\\python\\framework\\ops.py\", line 3322, in _create_op_internal\n",
      "    op_def=op_def)\n",
      "  File \"C:\\Users\\kheen\\Anaconda3\\envs\\ThreeSeven\\lib\\site-packages\\tensorflow_core\\python\\framework\\ops.py\", line 1756, in __init__\n",
      "    self._traceback = tf_stack.extract_stack()\n",
      "KeyboardInterrupt\n",
      "\n",
      "During handling of the above exception, another exception occurred:\n",
      "\n",
      "Traceback (most recent call last):\n",
      "  File \"C:\\Users\\kheen\\Anaconda3\\envs\\ThreeSeven\\lib\\site-packages\\IPython\\core\\interactiveshell.py\", line 2044, in showtraceback\n",
      "    stb = value._render_traceback_()\n",
      "AttributeError: 'KeyboardInterrupt' object has no attribute '_render_traceback_'\n",
      "\n",
      "During handling of the above exception, another exception occurred:\n",
      "\n",
      "Traceback (most recent call last):\n",
      "  File \"C:\\Users\\kheen\\Anaconda3\\envs\\ThreeSeven\\lib\\site-packages\\IPython\\core\\ultratb.py\", line 1148, in get_records\n",
      "    return _fixed_getinnerframes(etb, number_of_lines_of_context, tb_offset)\n",
      "  File \"C:\\Users\\kheen\\Anaconda3\\envs\\ThreeSeven\\lib\\site-packages\\IPython\\core\\ultratb.py\", line 316, in wrapped\n",
      "    return f(*args, **kwargs)\n",
      "  File \"C:\\Users\\kheen\\Anaconda3\\envs\\ThreeSeven\\lib\\site-packages\\IPython\\core\\ultratb.py\", line 350, in _fixed_getinnerframes\n",
      "    records = fix_frame_records_filenames(inspect.getinnerframes(etb, context))\n",
      "  File \"C:\\Users\\kheen\\Anaconda3\\envs\\ThreeSeven\\lib\\inspect.py\", line 1502, in getinnerframes\n",
      "    frameinfo = (tb.tb_frame,) + getframeinfo(tb, context)\n",
      "  File \"C:\\Users\\kheen\\Anaconda3\\envs\\ThreeSeven\\lib\\inspect.py\", line 1464, in getframeinfo\n",
      "    lines, lnum = findsource(frame)\n",
      "  File \"C:\\Users\\kheen\\Anaconda3\\envs\\ThreeSeven\\lib\\site-packages\\IPython\\core\\ultratb.py\", line 182, in findsource\n",
      "    lines = linecache.getlines(file, globals_dict)\n",
      "  File \"C:\\Users\\kheen\\Anaconda3\\envs\\ThreeSeven\\lib\\linecache.py\", line 47, in getlines\n",
      "    return updatecache(filename, module_globals)\n",
      "  File \"C:\\Users\\kheen\\Anaconda3\\envs\\ThreeSeven\\lib\\linecache.py\", line 137, in updatecache\n",
      "    lines = fp.readlines()\n",
      "  File \"C:\\Users\\kheen\\Anaconda3\\envs\\ThreeSeven\\lib\\codecs.py\", line 319, in decode\n",
      "    def decode(self, input, final=False):\n",
      "KeyboardInterrupt\n"
     ]
    },
    {
     "ename": "KeyboardInterrupt",
     "evalue": "",
     "output_type": "error",
     "traceback": [
      "\u001b[1;31m---------------------------------------------------------------------------\u001b[0m"
     ]
    }
   ],
   "source": [
    "# Image data generator settings\n",
    "TARGET_SIZE = (224,224)\n",
    "COLOR_MODE = \"rgb\"\n",
    "BATCH_SIZE = 64\n",
    "CLASS_MODE = \"categorical\"\n",
    "\n",
    "\n",
    "# Training settings\n",
    "NUM_FOLDS = 2\n",
    "VALIDATION_SPLIT = 0.1\n",
    "NUM_EPOCHS = 7\n",
    "\n",
    "# Model settings\n",
    "\n",
    "\n",
    "kf = KFold(n_splits=NUM_FOLDS, random_state=SEED, shuffle=True)\n",
    "results = []\n",
    "cur_fold = 1\n",
    "\n",
    "for train_index, test_index in kf.split(dataset):\n",
    "    print(train_index, test_index)\n",
    "    # Print a message\n",
    "    print(f\"Fold {cur_fold} of {NUM_FOLDS}\")\n",
    "    cur_fold += 1\n",
    "    \n",
    "    # Extract train dataset\n",
    "    d_train = dataset[train_index]\n",
    "    # Split train dataset to form train and validation dataset\n",
    "    d_train, d_val = train_test_split(dataset, test_size = VALIDATION_SPLIT)\n",
    "    \n",
    "    # These are used to convert the filename,class pairs to dataframes\n",
    "    FILENAME_COL = \"filename\"\n",
    "    CLASS_COL = \"class\"\n",
    "    COLUMNS = [FILENAME_COL, CLASS_COL]\n",
    "    # Convert to dataframes\n",
    "    d_train = pd.DataFrame(d_train, columns = COLUMNS)\n",
    "    d_val = pd.DataFrame(d_val, columns = COLUMNS)\n",
    "    \n",
    "    # Create training data generators\n",
    "    # Training image data generator\n",
    "    train_it = train_datagen.flow_from_dataframe(\n",
    "        d_train,\n",
    "        directory = DATA_PATH,\n",
    "        x_col = FILENAME_COL,\n",
    "        y_col = CLASS_COL,\n",
    "        target_size = TARGET_SIZE,\n",
    "        color_mode = COLOR_MODE,\n",
    "        batch_size = BATCH_SIZE,\n",
    "        class_mode = CLASS_MODE,\n",
    "        shuffle = True,\n",
    "        seed = SEED\n",
    "    )\n",
    "    # Validation image data generator\n",
    "    val_it = test_datagen.flow_from_dataframe(\n",
    "        d_val,\n",
    "        directory = DATA_PATH,\n",
    "        x_col = FILENAME_COL,\n",
    "        y_col = CLASS_COL,\n",
    "        target_size = TARGET_SIZE,\n",
    "        color_mode = COLOR_MODE,\n",
    "        batch_size = BATCH_SIZE,\n",
    "        class_mode = CLASS_MODE,\n",
    "        shuffle = False,\n",
    "    )\n",
    "    \n",
    "    # Perform training\n",
    "    # Build the model\n",
    "    input_shape = (*TARGET_SIZE,3)\n",
    "    num_classes = len(classes)\n",
    "    model = create_model(input_shape, num_classes)\n",
    "    \n",
    "    # Train the model\n",
    "    history = model.fit(\n",
    "        train_it,\n",
    "        validation_data=val_it,\n",
    "        epochs=NUM_EPOCHS,\n",
    "        workers=6,\n",
    "        max_queue_size=100,\n",
    "        verbose=True\n",
    "    )\n",
    "    \n",
    "        \n",
    "# save model\n",
    "    model.save(\"food_model.h5\")\n",
    "    \n",
    "    # Extract test dataset and convert to dataframe\n",
    "    d_test = pd.DataFrame(dataset[test_index], columns = COLUMNS)\n",
    "    # Create test image data generator\n",
    "    test_it = test_datagen.flow_from_dataframe(\n",
    "        d_test,\n",
    "        directory = DATA_PATH,\n",
    "        x_col = FILENAME_COL,\n",
    "        y_col = CLASS_COL,\n",
    "        target_size = TARGET_SIZE,\n",
    "        color_mode = COLOR_MODE,\n",
    "        batch_size = BATCH_SIZE,\n",
    "        class_mode = CLASS_MODE,\n",
    "        shuffle = False,\n",
    "    )\n",
    "    # Test\n",
    "    fold_results = model.evaluate(test_it)\n",
    "    results.append(fold_results)\n",
    "    print(f\"Results for current fold: {fold_results}\")"
   ]
  },
  {
   "cell_type": "code",
   "execution_count": 10,
   "metadata": {},
   "outputs": [
    {
     "name": "stdout",
     "output_type": "stream",
     "text": [
      " Volume in drive C is OS"
     ]
    },
    {
     "name": "stderr",
     "output_type": "stream",
     "text": [
      "File Not Found\n"
     ]
    },
    {
     "name": "stdout",
     "output_type": "stream",
     "text": [
      "\n",
      " Volume Serial Number is 82EA-D4B4\n",
      "\n",
      " Directory of C:\\Users\\kheen\\Pictures\\S20-team8-project\n",
      "\n"
     ]
    }
   ],
   "source": [
    "ls -l"
   ]
  },
  {
   "cell_type": "code",
   "execution_count": null,
   "metadata": {},
   "outputs": [],
   "source": []
  },
  {
   "cell_type": "code",
   "execution_count": null,
   "metadata": {},
   "outputs": [],
   "source": []
  },
  {
   "cell_type": "code",
   "execution_count": null,
   "metadata": {},
   "outputs": [],
   "source": []
  }
 ],
 "metadata": {
  "kernelspec": {
   "display_name": "Python 3",
   "language": "python",
   "name": "python3"
  },
  "language_info": {
   "codemirror_mode": {
    "name": "ipython",
    "version": 3
   },
   "file_extension": ".py",
   "mimetype": "text/x-python",
   "name": "python",
   "nbconvert_exporter": "python",
   "pygments_lexer": "ipython3",
   "version": "3.7.7"
  }
 },
 "nbformat": 4,
 "nbformat_minor": 4
}
