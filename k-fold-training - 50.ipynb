{
 "cells": [
  {
   "cell_type": "code",
   "execution_count": 1,
   "metadata": {},
   "outputs": [],
   "source": [
    "import tensorflow\n",
    "tensorflow.config.experimental.set_visible_devices([], 'GPU')"
   ]
  },
  {
   "cell_type": "code",
   "execution_count": 2,
   "metadata": {},
   "outputs": [],
   "source": [
    "SEED = 42\n",
    "from random import seed as py_seed\n",
    "py_seed(SEED)\n",
    "from numpy.random import seed as np_seed\n",
    "np_seed(SEED)\n",
    "from tensorflow import random as tf_random\n",
    "tf_random.set_seed(SEED)"
   ]
  },
  {
   "cell_type": "code",
   "execution_count": 3,
   "metadata": {},
   "outputs": [
    {
     "name": "stderr",
     "output_type": "stream",
     "text": [
      "Using TensorFlow backend.\n"
     ]
    }
   ],
   "source": [
    "from keras.preprocessing.image import ImageDataGenerator\n",
    "from keras.models import Sequential, load_model\n",
    "from keras.layers import Dense, Dropout, Flatten, Activation, GlobalAveragePooling2D\n",
    "from keras.optimizers import Adam, SGD, RMSprop\n",
    "from keras.utils import np_utils\n",
    "from keras.models import load_model\n",
    "from keras.applications.mobilenet import MobileNet\n",
    "from keras.applications.mobilenet_v2 import MobileNetV2\n",
    "from keras.applications.nasnet import NASNetMobile\n",
    "import matplotlib.pyplot as plt\n",
    "import numpy as np\n",
    "import pandas as pd\n",
    "from pathlib import Path\n",
    "import random\n",
    "from sklearn.model_selection import KFold, train_test_split\n"
   ]
  },
  {
   "cell_type": "code",
   "execution_count": 4,
   "metadata": {},
   "outputs": [
    {
     "data": {
      "text/plain": [
       "[PhysicalDevice(name='/physical_device:GPU:0', device_type='GPU')]"
      ]
     },
     "execution_count": 4,
     "metadata": {},
     "output_type": "execute_result"
    }
   ],
   "source": [
    "tensorflow.config.list_physical_devices('GPU')"
   ]
  },
  {
   "cell_type": "code",
   "execution_count": 5,
   "metadata": {},
   "outputs": [
    {
     "name": "stdout",
     "output_type": "stream",
     "text": [
      "['ramen', 'carrot_cake', 'beef_carpaccio', 'takoyaki', 'filet_mignon', 'edamame', 'deviled_eggs', 'chicken_quesadilla', 'ceviche', 'strawberry_shortcake', 'pizza', 'cannoli', 'samosa', 'macaroni_and_cheese', 'beet_salad', 'beef_tartare', 'cheesecake', 'fish_and_chips', 'french_onion_soup', 'prime_rib', 'tacos', 'beignets', 'spaghetti_bolognese', 'falafel', 'shrimp_and_grits', 'oysters', 'fried_calamari', 'pho', 'guacamole', 'apple_pie', 'donuts', 'pork_chop', 'macarons', 'hot_and_sour_soup', 'cup_cakes', 'garlic_bread', 'omelette', 'churros', 'bruschetta', 'frozen_yogurt', 'caprese_salad', 'fried_rice', 'steak', 'gnocchi', 'pad_thai', 'dumplings', 'sushi', 'bibimbap', 'scallops', 'lasagna']\n"
     ]
    }
   ],
   "source": [
    "# Data comes from here. This should contain a bunch of folders of classes, each containing examples\n",
    "DATA_PATH = Path('C:/Users/kheen/Downloads/food-101/food-101/images')\n",
    "\n",
    "# Get class (folder) names\n",
    "classes = sorted([entry.name for entry in DATA_PATH.iterdir() if entry.is_dir()])\n",
    "\n",
    "label_list = classes\n",
    "labels = []\n",
    "for i in range(50):\n",
    "    num =  random.randint(0, (100 - i))\n",
    "    labels.append(label_list[num])\n",
    "    label_list.pop(num)\n",
    "print(labels)\n",
    "classes = labels\n",
    "        \n",
    "# Load list of filenames and classes, and convert to numpy array to allow array slicing \n",
    "# For k-fold validation\n",
    "dataset = np.array([\n",
    "    (f\"{clazz}/{entry.name}\", clazz)\n",
    "    for clazz in classes\n",
    "    for entry in (DATA_PATH / clazz).iterdir()\n",
    "])"
   ]
  },
  {
   "cell_type": "code",
   "execution_count": 6,
   "metadata": {},
   "outputs": [],
   "source": [
    "# create data generators\n",
    "\n",
    "# Rescale 0-255 to 0-1\n",
    "RESCALE=1./255\n",
    "\n",
    "# This type of data generator is used to train the model\n",
    "train_datagen = ImageDataGenerator(\n",
    "    rescale=RESCALE,\n",
    "    # Factors used to control\n",
    "    rotation_range=45,  # randomly rotate images in the range (degrees, 0 to 180)\n",
    "    width_shift_range=0.125,  # randomly shift images horizontally (fraction of total width)\n",
    "    height_shift_range=0.125,  # randomly shift images vertically (fraction of total height)\n",
    "    horizontal_flip=True,  # randomly flip images\n",
    "\n",
    ")\n",
    "\n",
    "# This type of generator is used to test the model\n",
    "test_datagen = ImageDataGenerator(\n",
    "    rescale=RESCALE,\n",
    ")\n",
    "\n"
   ]
  },
  {
   "cell_type": "code",
   "execution_count": 7,
   "metadata": {},
   "outputs": [],
   "source": [
    "def create_model(input_shape, num_classes):\n",
    "    # Base model, with weights pre-trained on ImageNet.\n",
    "    base_model = NASNetMobile(input_shape, weights='imagenet', include_top=False)\n",
    "\n",
    "    for layer in base_model.layers:\n",
    "        layer.trainable = False\n",
    "\n",
    "    model = Sequential()\n",
    "    model.add(base_model)\n",
    "    model.add(GlobalAveragePooling2D())\n",
    "    model.add(Dropout(0.5))\n",
    "    model.add(Dense(num_classes, activation='softmax'))\n",
    "    optimizer = RMSprop()\n",
    "\n",
    "    model.compile(\n",
    "        loss = 'categorical_crossentropy',\n",
    "        optimizer = optimizer,\n",
    "        metrics = ['accuracy']\n",
    "    )\n",
    "    \n",
    "    return model"
   ]
  },
  {
   "cell_type": "code",
   "execution_count": null,
   "metadata": {},
   "outputs": [
    {
     "name": "stdout",
     "output_type": "stream",
     "text": [
      "Fold 1 of 2\n",
      "Found 45000 validated image filenames belonging to 50 classes.\n",
      "Found 5000 validated image filenames belonging to 50 classes.\n",
      "Epoch 1/7\n",
      "704/704 [==============================] - 5505s 8s/step - loss: 2.7781 - accuracy: 0.2880 - val_loss: 1.5261 - val_accuracy: 0.3820\n",
      "Epoch 2/7\n",
      "704/704 [==============================] - 3250s 5s/step - loss: 2.2710 - accuracy: 0.3980 - val_loss: 1.1101 - val_accuracy: 0.4012\n",
      "Epoch 3/7\n",
      "704/704 [==============================] - 3509s 5s/step - loss: 2.1860 - accuracy: 0.4234 - val_loss: 1.2156 - val_accuracy: 0.4370\n",
      "Epoch 4/7\n",
      "704/704 [==============================] - 3213s 5s/step - loss: 2.1549 - accuracy: 0.4323 - val_loss: 1.0794 - val_accuracy: 0.4376\n",
      "Epoch 5/7\n",
      "704/704 [==============================] - 3264s 5s/step - loss: 2.1428 - accuracy: 0.4342 - val_loss: 1.1453 - val_accuracy: 0.4404\n",
      "Epoch 6/7\n",
      "704/704 [==============================] - 3332s 5s/step - loss: 2.1365 - accuracy: 0.4402 - val_loss: 1.1549 - val_accuracy: 0.4438\n",
      "Epoch 7/7\n",
      "704/704 [==============================] - 3148s 4s/step - loss: 2.1324 - accuracy: 0.4418 - val_loss: 1.0506 - val_accuracy: 0.4414\n",
      "Found 25000 validated image filenames belonging to 50 classes.\n",
      "127/391 [========>.....................] - ETA: 18:59"
     ]
    }
   ],
   "source": [
    "# Image data generator settings\n",
    "TARGET_SIZE = (224,224)\n",
    "COLOR_MODE = \"rgb\"\n",
    "BATCH_SIZE = 64\n",
    "CLASS_MODE = \"categorical\"\n",
    "\n",
    "\n",
    "# Training settings\n",
    "NUM_FOLDS = 2\n",
    "VALIDATION_SPLIT = 0.1\n",
    "NUM_EPOCHS = 7\n",
    "\n",
    "# Model settings\n",
    "\n",
    "\n",
    "kf = KFold(n_splits=NUM_FOLDS, random_state=SEED, shuffle=True)\n",
    "results = []\n",
    "cur_fold = 1\n",
    "\n",
    "for train_index, test_index in kf.split(dataset):\n",
    "    # Print a message\n",
    "    print(f\"Fold {cur_fold} of {NUM_FOLDS}\")\n",
    "    cur_fold += 1\n",
    "    \n",
    "    # Extract train dataset\n",
    "    d_train = dataset[train_index]\n",
    "    # Split train dataset to form train and validation dataset\n",
    "    d_train, d_val = train_test_split(dataset, test_size = VALIDATION_SPLIT)\n",
    "    \n",
    "    # These are used to convert the filename,class pairs to dataframes\n",
    "    FILENAME_COL = \"filename\"\n",
    "    CLASS_COL = \"class\"\n",
    "    COLUMNS = [FILENAME_COL, CLASS_COL]\n",
    "    # Convert to dataframes\n",
    "    d_train = pd.DataFrame(d_train, columns = COLUMNS)\n",
    "    d_val = pd.DataFrame(d_val, columns = COLUMNS)\n",
    "    \n",
    "    # Create training data generators\n",
    "    # Training image data generator\n",
    "    train_it = train_datagen.flow_from_dataframe(\n",
    "        d_train,\n",
    "        directory = DATA_PATH,\n",
    "        x_col = FILENAME_COL,\n",
    "        y_col = CLASS_COL,\n",
    "        target_size = TARGET_SIZE,\n",
    "        color_mode = COLOR_MODE,\n",
    "        batch_size = BATCH_SIZE,\n",
    "        class_mode = CLASS_MODE,\n",
    "        shuffle = True,\n",
    "        seed = SEED\n",
    "    )\n",
    "    # Validation image data generator\n",
    "    val_it = test_datagen.flow_from_dataframe(\n",
    "        d_val,\n",
    "        directory = DATA_PATH,\n",
    "        x_col = FILENAME_COL,\n",
    "        y_col = CLASS_COL,\n",
    "        target_size = TARGET_SIZE,\n",
    "        color_mode = COLOR_MODE,\n",
    "        batch_size = BATCH_SIZE,\n",
    "        class_mode = CLASS_MODE,\n",
    "        shuffle = False,\n",
    "    )\n",
    "    \n",
    "    # Perform training\n",
    "    # Build the model\n",
    "    input_shape = (*TARGET_SIZE,3)\n",
    "    num_classes = len(classes)\n",
    "    model = create_model(input_shape, num_classes)\n",
    "    \n",
    "    # Train the model\n",
    "    history = model.fit(\n",
    "        train_it,\n",
    "        validation_data=val_it,\n",
    "        epochs=NUM_EPOCHS,\n",
    "        workers=6,\n",
    "        max_queue_size=100,\n",
    "        verbose=True\n",
    "    )\n",
    "    \n",
    "        \n",
    "    # save model\n",
    "    model.save(\"food_model_50.h5\")\n",
    "    \n",
    "    # Extract test dataset and convert to dataframe\n",
    "    d_test = pd.DataFrame(dataset[test_index], columns = COLUMNS)\n",
    "    # Create test image data generator\n",
    "    test_it = test_datagen.flow_from_dataframe(\n",
    "        d_test,\n",
    "        directory = DATA_PATH,\n",
    "        x_col = FILENAME_COL,\n",
    "        y_col = CLASS_COL,\n",
    "        target_size = TARGET_SIZE,\n",
    "        color_mode = COLOR_MODE,\n",
    "        batch_size = BATCH_SIZE,\n",
    "        class_mode = CLASS_MODE,\n",
    "        shuffle = False,\n",
    "    )\n",
    "    # Test\n",
    "    fold_results = model.evaluate(test_it)\n",
    "    results.append(fold_results)\n",
    "    print(f\"Results for current fold: {fold_results}\")"
   ]
  },
  {
   "cell_type": "code",
   "execution_count": null,
   "metadata": {},
   "outputs": [],
   "source": []
  },
  {
   "cell_type": "code",
   "execution_count": null,
   "metadata": {},
   "outputs": [],
   "source": []
  },
  {
   "cell_type": "code",
   "execution_count": null,
   "metadata": {},
   "outputs": [],
   "source": []
  },
  {
   "cell_type": "code",
   "execution_count": null,
   "metadata": {},
   "outputs": [],
   "source": []
  }
 ],
 "metadata": {
  "kernelspec": {
   "display_name": "Python 3",
   "language": "python",
   "name": "python3"
  },
  "language_info": {
   "codemirror_mode": {
    "name": "ipython",
    "version": 3
   },
   "file_extension": ".py",
   "mimetype": "text/x-python",
   "name": "python",
   "nbconvert_exporter": "python",
   "pygments_lexer": "ipython3",
   "version": "3.7.7"
  }
 },
 "nbformat": 4,
 "nbformat_minor": 4
}
