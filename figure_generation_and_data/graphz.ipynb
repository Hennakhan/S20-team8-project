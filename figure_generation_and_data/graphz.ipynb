{
 "cells": [
  {
   "cell_type": "markdown",
   "metadata": {},
   "source": [
    "## Getting 5Fold Accuracy and F1 Score with visualization"
   ]
  },
  {
   "cell_type": "markdown",
   "metadata": {},
   "source": [
    "Model 1 - This model is trained on 101 classes. We have calculated the top1, top5, top 10 accuracy and F1 score for this model with visualization"
   ]
  },
  {
   "cell_type": "code",
   "execution_count": 1,
   "metadata": {},
   "outputs": [
    {
     "name": "stderr",
     "output_type": "stream",
     "text": [
      "Using TensorFlow backend.\n"
     ]
    }
   ],
   "source": [
    "from collections import defaultdict\n",
    "import functools\n",
    "import keras\n",
    "import keras.callbacks\n",
    "import numpy as np\n",
    "from pathlib import Path\n",
    "import pandas as pd\n",
    "import pickle\n",
    "import seaborn as sns\n",
    "from sklearn.metrics import confusion_matrix, f1_score\n",
    "%matplotlib inline"
   ]
  },
  {
   "cell_type": "markdown",
   "metadata": {},
   "source": [
    "Number of folds with path to save figures"
   ]
  },
  {
   "cell_type": "code",
   "execution_count": 2,
   "metadata": {},
   "outputs": [],
   "source": [
    "NUM_FOLDS = 5\n",
    "FIGURES_PATH = Path('figures')"
   ]
  },
  {
   "cell_type": "markdown",
   "metadata": {},
   "source": [
    "Function to get Top 10 accuracy for visualization with respect to 5Fold score."
   ]
  },
  {
   "cell_type": "code",
   "execution_count": 3,
   "metadata": {},
   "outputs": [],
   "source": [
    "top10_acc = functools.partial(keras.metrics.top_k_categorical_accuracy, k=10)\n",
    "top10_acc.__name__ = 'top10_acc'"
   ]
  },
  {
   "cell_type": "markdown",
   "metadata": {},
   "source": [
    " We have already saved the y_test and y_pred for all 5-folds for Model1, Model2, and Model3 using pickle(.pkl) file. In this code we reading these file for each model and generating Top1, Top2 and Top3 accuracies and F1 score for visualisation."
   ]
  },
  {
   "cell_type": "code",
   "execution_count": 7,
   "metadata": {},
   "outputs": [
    {
     "name": "stdout",
     "output_type": "stream",
     "text": [
      "25 classes:\n",
      "Top 1 accuracy: 0.41372\n",
      "Top 5 accuracy: 0.6916800000000001\n",
      "Top 10 accuracy: 0.80684\n",
      "F1 Score: 0.5203463859965595\n",
      "\n",
      "50 classes:\n",
      "Top 1 accuracy: 0.34306000000000003\n",
      "Top 5 accuracy: 0.5952\n",
      "Top 10 accuracy: 0.70994\n",
      "F1 Score: 0.43215426579924976\n",
      "\n",
      "101 classes:\n",
      "Top 1 accuracy: 0.2223459985441333\n",
      "Top 5 accuracy: 0.4231270344614302\n",
      "Top 10 accuracy: 0.5256095886693488\n",
      "F1 Score: 0.33188679434182033\n",
      "\n"
     ]
    }
   ],
   "source": [
    "## histories = defaultdict(list)\n",
    "y_tests = defaultdict(list)\n",
    "y_preds = defaultdict(list)\n",
    "histories = defaultdict(list)\n",
    "accuracies = defaultdict(dict)\n",
    "\n",
    "\n",
    "def top_n_accuracy(y_tests, y_preds, n):\n",
    "    num_classes = len(y_preds[0])\n",
    "    top_n_predictions = [y_test in sorted(range(num_classes), key=lambda n: y_pred[n], reverse=True)[:n] for y_pred, y_test in zip(y_preds, y_test)]\n",
    "    return float(sum(top_n_predictions)) / len(y_tests)\n",
    "\n",
    "\n",
    "for num_classes in [25,50,101]:\n",
    "    data_dir = Path(f\"{num_classes}_runs\")\n",
    "    for run in range(1, NUM_FOLDS + 1):\n",
    "        #history = pickle.load((data_dir / f'history_{num_classes}_{run}.pkl').open('rb'))\n",
    "        y_test = pickle.load((data_dir / f'y_test_{num_classes}_{run}.pkl').open('rb'))\n",
    "        y_tests[num_classes].append(y_test)\n",
    "        y_pred = pickle.load((data_dir / f'y_predict_{num_classes}_{run}.pkl').open('rb'))\n",
    "        y_preds[num_classes].append(y_pred)\n",
    "    print(f\"{num_classes} classes:\")\n",
    "    for n in [1,5,10]:\n",
    "        avg_topn_accuracy = sum([top_n_accuracy(y_test, y_pred, n) for y_test, y_pred in zip(y_tests[num_classes], y_preds[num_classes])]) / len(y_tests[num_classes])\n",
    "        print(f\"Top {n} accuracy: {avg_topn_accuracy}\")\n",
    "        accuracies[num_classes][n] = avg_topn_accuracy\n",
    "    f1 = np.mean([f1_score(y_test, np.argmax(y_pred, axis=1), average=\"macro\") for y_test, y_pred in zip(y_tests[num_classes], y_preds[num_classes])])\n",
    "    print(f\"F1 Score: {f1}\")\n",
    "#     if num_classes == 101:\n",
    "#         print(type(y_preds[num_classes][0][0]))\n",
    "#     print(np.array(y_preds[num_classes][0]).shape)\n",
    "#     y_pred_top1_all = np.hstack(np.argmax(np.array(y_preds[num_classes]), axis=2))\n",
    "#     y_test_all = np.hstack(y_tests[num_classes])\n",
    "#     print(y_pred_top1_all.shape)\n",
    "#     print(y_test_all.shape)\n",
    "#     print(sum(y_pred_top1_all == y_test_all))\n",
    "\n",
    "    print()\n",
    "    "
   ]
  },
  {
   "cell_type": "markdown",
   "metadata": {},
   "source": [
    "Generating figure plotting accuracies "
   ]
  },
  {
   "cell_type": "code",
   "execution_count": 8,
   "metadata": {},
   "outputs": [
    {
     "data": {
      "image/png": "[encoded data removed]",
      "text/plain": [
       "<Figure size 432x288 with 1 Axes>"
      ]
     },
     "metadata": {
      "needs_background": "light"
     },
     "output_type": "display_data"
    }
   ],
   "source": [
    "dataset = pd.DataFrame([(num_classes, top_n, accuracy) for num_classes, acc in accuracies.items() for top_n, accuracy in acc.items()], columns=[\"n_classes\", \"Top N\", \"accuracy\"])\n",
    "fig=sns.barplot(x=\"n_classes\", y=\"accuracy\", hue=\"Top N\", data=dataset)\n",
    "fig.set_ylabel(\"Accuracy\")\n",
    "fig.set_xlabel(\"Number of Classes\")\n",
    "fig.get_figure().savefig(FIGURES_PATH / \"accuracies.pdf\", dpi=800)"
   ]
  },
  {
   "cell_type": "code",
   "execution_count": null,
   "metadata": {},
   "outputs": [],
   "source": [
    "plt = None\n",
    "for h in histories:\n",
    "    plt = sns.lineplot([1,2,3,4,5], h.history['accuracy'])\n",
    "plt.get_figure().show()\n",
    "plt.get_figure().savefig(FIGURES_PATH / '25_history.pdf')"
   ]
  },
  {
   "cell_type": "markdown",
   "metadata": {},
   "source": [
    "## "
   ]
  }
 ],
 "metadata": {
  "kernelspec": {
   "display_name": "Python 3",
   "language": "python",
   "name": "python3"
  },
  "language_info": {
   "codemirror_mode": {
    "name": "ipython",
    "version": 3
   },
   "file_extension": ".py",
   "mimetype": "text/x-python",
   "name": "python",
   "nbconvert_exporter": "python",
   "pygments_lexer": "ipython3",
   "version": "3.7.6"
  }
 },
 "nbformat": 4,
 "nbformat_minor": 4
}
