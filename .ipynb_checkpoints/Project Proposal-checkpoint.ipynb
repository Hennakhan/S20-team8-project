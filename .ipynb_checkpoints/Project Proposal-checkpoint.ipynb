{
 "cells": [
  {
   "cell_type": "markdown",
   "metadata": {},
   "source": [
    "## Team 8 - ALCOVE - Attention to the right details with detailed attention.\n",
    "\n",
    " Heena Khan, James Phillips, Luis Chunga, Elijah Barbour, Mason Thieman, Matthew Radice, Steven Sheffey, "
   ]
  },
  {
   "cell_type": "markdown",
   "metadata": {},
   "source": [
    "# Image Recognition Software for a Web app\n",
    "\n",
    "## Introduction\n",
    "We developed a free food-finding App during HackMT. Where anybody can search for free food around them just by entering their location, and anybody can donate their food just by filling up information about food type and the quantity. Currently, the food donor has to fill this information every time he is hosting food. We are going to incorporate an image recognition neural network into this web app to determine the food information just from a picture.\n",
    "\n",
    "As it will eliminate the form filling process, somebody who is donating food would appreciate it if the person doesn't have to do a lot of work. The app we are improvising is built to prevent food wastage and also to provide food to someone who needs it without paying for it. The image recognition feature will add great value to the app.\n",
    "\n",
    "## Data\n",
    "\n",
    "Our dataset contains images of different food types. It’s a 5GB dataset with 101 food categories including breakfast, lunch, and dessert for different cuisine. The images are of 3 color channels. It was used for the research paper \"Food-101 – Mining Discriminative Components with Random Forests\" by Lukas Bossard.\n",
    "\n",
    "We are also going to perform web scrapping to collect more data. Depending on the data we receive from web scrapping we will decide on how generalized our classification is going to be. The most important part of our project is to collect an ample amount of data and modify and label it according to our classification.\n",
    "Image scaling, normalize image input, Dimension reduction, and Data augmentation are some of the data manipulation processes we might follow, considering the size of the images, the total number of images, number of channels, and their aspect ratio.\n",
    "\n",
    "## Methods\n",
    "\n",
    "We are planning on building a Convolutional Neural Network (CNN) using TensorFlow to classify images. CNN is efficient in correlating and understanding a large amount of data in high-resolution images, and they are best known for their ability to recognize patterns present in images.\n",
    "The goal is to train a Convolutional Neural Network to be as accurate as possible in identifying different cuisines and their servings, this model will then be implemented to use as a web app using React-js on the front end.\n",
    "\n",
    "## Tests\n",
    "Testing is the second priority of our project. We will be following a proper test protocol for the classification tasks.\n",
    "To estimate the skill of our model on the new data we are going to follow a k-fold cross-validation procedure, we'll be using scikit-learn libraries for this, it provides train/test indices to split data into train/test sets and to split the dataset into k consecutive folds.\n",
    "We will be considering metrics like accuracy, false-positive rate (FPR), true positive rate (TPR), precision-recall (PR-AUC) to quantify the quality of our model.\n",
    "\n",
    "We will also plot the test accuracy versus the number of epochs using TensorBoard (TensorFlow’s visualization suite).\n",
    "\n",
    "## References\n",
    "\n",
    "[1] Lukas Bossard, Matthieu Guillaumin, and Luc Van Gool. Food-101 – mining discrimi-native components with random forests. In European Conference on Computer Vision,2014\n",
    "\n",
    "[2]H. Wang, C. Liu, L. Yu and J. Zhao, \"Research on Target Detection and Recognition Algorithm Based on Deep Learning,\" 2019 Chinese Control Conference (CCC), Guangzhou, China, 2019, pp. 8483-8487.\n",
    "doi: 10.23919/ChiCC.2019.8865560\n",
    "URL: http://ieeexplore.ieee.org.ezproxy.mtsu.edu/stamp/stamp.jsp?tp=&arnumber=8865560&isnumber=8865119\n",
    "\n"
   ]
  },
  {
   "cell_type": "code",
   "execution_count": null,
   "metadata": {},
   "outputs": [],
   "source": []
  }
 ],
 "metadata": {
  "kernelspec": {
   "display_name": "Python 3",
   "language": "python",
   "name": "python3"
  },
  "language_info": {
   "codemirror_mode": {
    "name": "ipython",
    "version": 3
   },
   "file_extension": ".py",
   "mimetype": "text/x-python",
   "name": "python",
   "nbconvert_exporter": "python",
   "pygments_lexer": "ipython3",
   "version": "3.6.5"
  }
 },
 "nbformat": 4,
 "nbformat_minor": 4
}
