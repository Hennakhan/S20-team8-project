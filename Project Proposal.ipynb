{
 "cells": [
  {
   "cell_type": "markdown",
   "metadata": {},
   "source": [
    "## Team 8 - ALCOVE - Attention to the right details with detailed attention.\n",
    "\n",
    " Heena Khan, James Phillips, Luis Chunga, Elijah Barbour, Mason Thieman, Matthew Radice, Steven Sheffey, "
   ]
  },
  {
   "cell_type": "markdown",
   "metadata": {},
   "source": [
    "# Image Recognition Software for a Web app\n",
    "\n",
    "\n",
    "## Introduction \n",
    "We developed a free food finding App during HackMT. Where anybody can search for free food around them just by entering their location, and anybody can donate their food just by filling up information about food type and the quantity. Currently the food donor have to fill this information every time he is hosting food. We are going to incorporate an image recognition neural network into this web app to determine the food information just from a picture. \n",
    "\n",
    "As it will eliminate the form filling process, somebody who is donating food would really appreciate if he doesn't have to do a lot of work. The app we are improvising is built to prevent food wastage and also to provide food to someone who needs it without paying for it. The image recognition feature will add great value to the app. \n",
    "\n",
    "## Data\n",
    "\n",
    "Our data-set contains images of different food type. It’s a 5GB data-set with 101 food categories including breakfast, lunch and dessert for different cuisine. The images are of 3 color channel. It was used for the research paper \"Food-101 – Mining Discriminative Components with Random Forests\" by Lukas Bossard. \n",
    "\n",
    "We are also going to perform web scrapping to collect more data. Depanding on the data we recieve from web scrapping we will decide on how generalised our classification is going to be. The most important part of our project is to collect ample amount of data and modify and label it to fit our requirement.\n",
    "Image scaling, Normalize image input, Dimension reduction and Data augmentation are some of the data manipulation process we might follow, considering the size of image, total number of images, number of channels, and their aspect ratio.\n",
    "\n",
    "## Methods\n",
    "\n",
    "We are planning on building a Convolutional Neural Network (CNN) using TensorFlow to classify images. CNN is efficient in correlating and understanding large amount of data in high-resolution images, and they are best known for their ability to recognize patterns present in images.\n",
    "The goal is to train a Convolutional Neural Network to be as accurate as possible in identifying different cuisines and their servings, this model will than be implemented to use like a web app using React-js on the front end.\n",
    "\n",
    "## Tests\n",
    "Testing is the second most priority of our project. We will be following proper test protocol for the classification tasks.\n",
    "To estimate the skill of the our model on the new data we are going to follow k-fold cross validation procedure, we'll be using scikit learn libraries for this, it provides train/test indices to split data in train/test sets and to split dataset into k consecutive folds.\n",
    "We will be considering metrics like accuracy, false positive rate (FPR), true positive rate (TPR), precision recall (PR-AUC) to quantify  quality of our model. \n",
    "\n",
    "We will also plot the test accuracy versus the number of epoch’s using TensorBoard (TensorFlow’s visualisation suite) for .\n",
    "\n",
    "## References\n",
    "\n",
    "[1] Lukas Bossard, Matthieu Guillaumin, and Luc Van Gool. Food-101 – mining discrimi-native components with random forests. In European Conference on Computer Vision,2014\n",
    "\n"
   ]
  },
  {
   "cell_type": "code",
   "execution_count": null,
   "metadata": {},
   "outputs": [],
   "source": []
  }
 ],
 "metadata": {
  "kernelspec": {
   "display_name": "Python 3",
   "language": "python",
   "name": "python3"
  },
  "language_info": {
   "codemirror_mode": {
    "name": "ipython",
    "version": 3
   },
   "file_extension": ".py",
   "mimetype": "text/x-python",
   "name": "python",
   "nbconvert_exporter": "python",
   "pygments_lexer": "ipython3",
   "version": "3.7.3"
  }
 },
 "nbformat": 4,
 "nbformat_minor": 4
}
