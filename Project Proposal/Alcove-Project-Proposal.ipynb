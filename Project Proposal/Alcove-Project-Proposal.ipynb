{
 "cells": [
  {
   "cell_type": "markdown",
   "metadata": {},
   "source": [
    "\n",
    "\n",
    "# Introduction\n",
    "\n",
    "We developed a free food finding App during HackMT.  Where anybody can donate their food just by filling up information about food type and the quantity.  Currently the food donor have to fill this information every time he is hosting food. So, to make this process easier. We are going to implement a neural network that can determine the food information just from the picture and eliminate some part of the form filling process. This will be a great addition to the web app because somebody who is donating food would really appreciate if he only have to take a picture instead of filling details.\n",
    "\n",
    "# Data\n",
    "\n",
    "Our data-set contains images of different food type. It’s a 5GB data-set with around 2000 images with 3 color channels. We are also going to perform web scrapping to collect more data.\n",
    "Considering the Image size, total number of images, number of channels, and aspect ratio, Image scaling, Normalize image input, Dimension reduction and Data augmentation are some of the data manipulating process we might follow.\n",
    "\n",
    "# Methods\n",
    "\n",
    "For this food recognition software we are planning on building a Convolutional Neural Network (CNN) to classify images. CNN is efficient in correlating and understanding the large amount of data in high-resolution images, and is most commonly used for image recognition\n",
    "\n",
    "# Tests\n",
    "To estimate the skill of the our model on the new data we are going follow k-fold cross validation procedure, considering metrics like accuracy, false positive rate (FPR), true positive rate (TPR), precision recall (PR-AUC). We will be following proper test protocol for the classification tasks.\n",
    "\n"
   ]
  },
  {
   "cell_type": "code",
   "execution_count": null,
   "metadata": {},
   "outputs": [],
   "source": []
  }
 ],
 "metadata": {
  "kernelspec": {
   "display_name": "Python 3",
   "language": "python",
   "name": "python3"
  },
  "language_info": {
   "codemirror_mode": {
    "name": "ipython",
    "version": 3
   },
   "file_extension": ".py",
   "mimetype": "text/x-python",
   "name": "python",
   "nbconvert_exporter": "python",
   "pygments_lexer": "ipython3",
   "version": "3.7.3"
  }
 },
 "nbformat": 4,
 "nbformat_minor": 4
}
