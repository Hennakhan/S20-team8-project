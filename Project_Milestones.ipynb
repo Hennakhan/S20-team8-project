{
 "cells": [
  {
   "cell_type": "markdown",
   "metadata": {},
   "source": [
    "# Image Recognition Software for a Web app"
   ]
  },
  {
   "cell_type": "markdown",
   "metadata": {},
   "source": [
    "##### Members: Heena Khan, James Phillips, Luis Chunga, Elijah Barbour, Mason Thieman, Matthew Radice, Steven Sheffey,"
   ]
  },
  {
   "cell_type": "markdown",
   "metadata": {},
   "source": [
    "## Project Milestones"
   ]
  },
  {
   "cell_type": "markdown",
   "metadata": {},
   "source": [
    "# Milestone 1 March 23 2020"
   ]
  },
  {
   "cell_type": "markdown",
   "metadata": {},
   "source": [
    "| Deliverable | Percent Complete | Estimated Completion Date | Percent Complete by Next Milestone |\n",
    "| --- | --- | --- | --- |\n",
    "| Code | 20% | Apr 17 | 40% |\n",
    "| Paper | 5% | Apr 23 | 25% |\n",
    "| Demo | 0% | May 1 | 5% |\n",
    "| Presentation | 5% | May 5 | 15% |"
   ]
  },
  {
   "cell_type": "markdown",
   "metadata": {},
   "source": [
    "#### 1. What deliverable goals established in the last milestone report were accomplished to the anticipated percentage?\n",
    "\n",
    "1. We have spent some time on understanding convolutional network, so that everybody is on the same page when we start with coding. \n",
    "2. We are following MVP (Minimum viable product) method of development. We created a small prototype of our project with a small dataset having 3 classes, it is giving us good accuracy and results.\n",
    "3. We have started with our paper, but we are still at the initial stage."
   ]
  },
  {
   "cell_type": "markdown",
   "metadata": {},
   "source": [
    "#### 2. What deliverable goals established in the last milestone report were were not accomplished to the anticipated percentage?\n",
    "\n",
    "1. Currently our model can identify three classes waffle, apple pie and churros. We were expecting to get our model working on the entire dataset by now, but we are facing some glitches on that.\n",
    "\n",
    "2. Our model does not identify all the classes in one image. This is MVP for our next milestone. \n"
   ]
  },
  {
   "cell_type": "markdown",
   "metadata": {},
   "source": [
    "#### 3. What are the main deliverable goals to meet before the next milestone report, and who is working on them?\n",
    "\n",
    "We have divided our work making sure everyone is involved and learning. The team is still learning CNN and TensorFlow along with their below duties.\n",
    "1. Luis and Heena are working on CNN model to make it work for the entire dataset.\n",
    "2. James, Elijah and Matthew are studying and writing comparison between our CNN model and the model used in the paper [1]\n",
    "2. Steven will be reviewing and testing our model.\n",
    "4. Mason is working on the presentation. "
   ]
  },
  {
   "cell_type": "markdown",
   "metadata": {},
   "source": [
    "#### Reference"
   ]
  },
  {
   "cell_type": "markdown",
   "metadata": {},
   "source": [
    "[1] Lukas Bossard, Matthieu Guillaumin, and Luc Van Gool. Food-101 – mining discrimi-native components with random forests. In European Conference on Computer Vision,2014"
   ]
  },
  {
   "cell_type": "markdown",
   "metadata": {},
   "source": [
    "# Milestone 2 March 31 2020"
   ]
  },
  {
   "cell_type": "markdown",
   "metadata": {},
   "source": [
    "| Deliverable | Percent Complete | Estimated Completion Date | Percent Complete by Next Milestone |\n",
    "| --- | --- | --- | --- |\n",
    "| Code | 40% | Apr 17 | 90% |\n",
    "| Paper | 25% | Apr 23 | 70% |\n",
    "| Demo | 0% | May 1 | 5% |\n",
    "| Presentation | 5% | May 5 | 40% |"
   ]
  },
  {
   "cell_type": "markdown",
   "metadata": {},
   "source": [
    "#### 1. What deliverable goals established in the last milestone report were accomplished to the anticipated percentage?\n",
    "\n",
    "1. Our code section is exactly where we thought it would be. Currently we have a working model for our dataset. Our next task will be to optimize this model in python and then start on the REACT development.\n",
    "2. Our paper has an Intro and Background section as of right now which is what was planned.\n",
    "3. Our presentation is being updated as we move forward with techniques and plans that we discuss so it is also where we have planned on it being."
   ]
  },
  {
   "cell_type": "markdown",
   "metadata": {},
   "source": [
    " #### 2. What deliverable goals established in the last milestone report were were not accomplished to the anticipated percentage?\n",
    "    \n",
    "1. We have litte to no progress on our demo as of yet because of some misunderstandings in our project path. However we believe this to begin progression as soon as the code is finished."
   ]
  },
  {
   "cell_type": "markdown",
   "metadata": {},
   "source": [
    "#### 3. What are the main deliverable goals to meet before the next milestone report, and who is working on them?\n",
    "    \n",
    "1. Luis and Heena are working with the REACT code.\n",
    "2. Steven and Matthew will be optimizing the current Python model. \n",
    "3. Elijah, Mason, and James will be working to clean and progress the paper and presentation to show progression and reasoning for decisions."
   ]
  },
  {
   "cell_type": "markdown",
   "metadata": {},
   "source": [
    "# Milestone 3 April 14 2020"
   ]
  },
  {
   "cell_type": "markdown",
   "metadata": {},
   "source": [
    "| Deliverable | Percent Complete | Estimated Completion Date | Percent Complete by Next Milestone |\n",
    "| --- | --- | --- | --- |\n",
    "| Code | 85% | Apr 17 | 100% |\n",
    "| Paper | 30% | Apr 23 | 100% |\n",
    "| Demo | 60% | May 1 | 60% |\n",
    "| Presentation | 10% | May 5 | 40% |"
   ]
  },
  {
   "cell_type": "markdown",
   "metadata": {},
   "source": [
    "#### 1. What deliverable goals established in the last milestone report were accomplished to the anticipated percentage?\n",
    "\n",
    "1. We have almost met our expected progress on our code. We just need to make some improvements to our model.\n",
    "2. The demonstration of the final product is completed. The remaining portion for our demo is explaining the processes in Jupyter. \n"
   ]
  },
  {
   "cell_type": "markdown",
   "metadata": {},
   "source": [
    " #### 2. What deliverable goals established in the last milestone report were were not accomplished to the anticipated percentage?\n",
    "    \n",
    "1. We have little to no progress on our presentation as of yet. Once the code and paper are finalized, we will begin to make much more progress on it.\n",
    "2. We have very little progress on our paper, and our paper is quite behind the anticipated percentage.\n"
   ]
  },
  {
   "cell_type": "markdown",
   "metadata": {},
   "source": [
    "#### 3. What are the main deliverable goals to meet before the next milestone report, and who is working on them?\n",
    "    \n",
    "1. Steven and Matthew are working on improving the model separately.\n",
    "2. Luis and Heena will deploy the model into the web app and also work on improving the look and feel of the web app. \n",
    "3. Elijah, Mason, and James will be working to clean and progress the paper and presentation to show progression and reasoning for decisions."
   ]
  },
 {
   "cell_type": "markdown",
   "metadata": {},
   "source": [
    "# Milestone 4 April 27 2020"
   ]
  },
  {
   "cell_type": "markdown",
   "metadata": {},
   "source": [
    "| Deliverable | Percent Complete | Estimated Completion Date |\n",
    "| --- | --- | --- |\n",
    "| Code | 100% | Apr 17 |\n",
    "| Paper | 100% | Apr 23 |\n",
    "| Demo | 60% | May 1 |\n",
    "| Presentation | 40% | May 5 |"
   ]
  },
  {
   "cell_type": "markdown",
   "metadata": {},
   "source": [
    "#### 1. What deliverable goals established in the last milestone report were accomplished to the anticipated percentage?\n",
    "\n",
    "1. Our paper, code, and demo for the web app is now ready.\n",
    "2. We have exceeded our expected progress on our presentation. Since we completed the paper and code, we will be able to make much more progress in the presentation.\n"
   ]
  },
  {
   "cell_type": "markdown",
   "metadata": {},
   "source": [
    " #### 2. What deliverable goals established in the last milestone report were were not accomplished to the anticipated percentage?\n",
    "    \n",
    "1. Every deliverable goal has either met or exceeded its anticipated percentage.\n"
   ]
  },
  {
   "cell_type": "markdown",
   "metadata": {},
   "source": [
    "#### 3. What are the main deliverable goals to meet before the next milestone report, and who is working on them?\n",
    "    \n",
    "1. Everyone except Mason is focused on finishing the demo.\n",
    "2. While Mason is focused on the presentation, everyone else is assisting him by contributing to their respective parts."
   ]
  }
 ],
 "metadata": {
  "kernelspec": {
   "display_name": "Python 3",
   "language": "python",
   "name": "python3"
  },
  "language_info": {
   "codemirror_mode": {
    "name": "ipython",
    "version": 3
   },
   "file_extension": ".py",
   "mimetype": "text/x-python",
   "name": "python",
   "nbconvert_exporter": "python",
   "pygments_lexer": "ipython3",
   "version": "3.7.6"
  }
 },
 "nbformat": 4,
 "nbformat_minor": 4
}
