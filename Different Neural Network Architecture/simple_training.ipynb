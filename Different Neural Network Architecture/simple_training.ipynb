{
 "cells": [
  {
   "cell_type": "code",
   "execution_count": 2,
   "metadata": {},
   "outputs": [],
   "source": [
    "SEED = 42\n",
    "from random import seed as py_seed\n",
    "py_seed(SEED)\n",
    "from numpy.random import seed as np_seed\n",
    "np_seed(SEED)\n",
    "from tensorflow import random as tf_random\n",
    "tf_random.set_seed(SEED)"
   ]
  },
  {
   "cell_type": "code",
   "execution_count": 3,
   "metadata": {},
   "outputs": [
    {
     "name": "stderr",
     "output_type": "stream",
     "text": [
      "Using TensorFlow backend.\n"
     ]
    }
   ],
   "source": [
    "from keras.preprocessing.image import ImageDataGenerator\n",
    "from keras.models import Sequential, load_model\n",
    "from keras.layers import Dense, Dropout, Flatten, Activation, GlobalAveragePooling2D\n",
    "from keras.optimizers import Adam, SGD, RMSprop\n",
    "from keras.utils import np_utils\n",
    "from keras.models import load_model\n",
    "from keras.applications.mobilenet import MobileNet\n",
    "from keras.applications.mobilenet_v2 import MobileNetV2\n",
    "from keras.applications.nasnet import NASNetMobile\n",
    "import matplotlib.pyplot as plt\n",
    "import numpy as np\n",
    "import pandas as pd\n",
    "from pathlib import Path\n",
    "import random\n",
    "from sklearn.model_selection import KFold, train_test_split\n",
    "from keras import backend as K\n",
    "import keras\n",
    "import tensorflow as tf\n",
    "import functools"
   ]
  },
  {
   "cell_type": "code",
   "execution_count": 4,
   "metadata": {},
   "outputs": [],
   "source": [
    "# Data comes from here. This should contain a bunch of folders of classes, each containing examples\n",
    "DATA_PATH = Path('C:/Users/kheen/Desktop/S20-team8-project/Different Neural Network Architecture/food-101/images')\n",
    "\n",
    "# Get class (folder) names\n",
    "classes = sorted([entry.name for entry in DATA_PATH.iterdir() if entry.is_dir()])\n",
    "\n",
    "# Load list of filenames and classes, and convert to numpy array to allow array slicing\n",
    "# For k-fold validation\n",
    "dataset = np.array([\n",
    "    (f\"{clazz}/{entry.name}\", clazz)\n",
    "    for clazz in classes\n",
    "    for entry in (DATA_PATH / clazz).iterdir()\n",
    "])"
   ]
  },
  {
   "cell_type": "code",
   "execution_count": 5,
   "metadata": {},
   "outputs": [],
   "source": [
    "# create data generators\n",
    "\n",
    "# Rescale 0-255 to 0-1\n",
    "RESCALE=1./255\n",
    "\n",
    "# This type of data generator is used to train the model\n",
    "train_datagen = ImageDataGenerator(\n",
    "    rescale=RESCALE,\n",
    "    # Factors used to control\n",
    "    rotation_range=45,  # randomly rotate images in the range (degrees, 0 to 180)\n",
    "    width_shift_range=0.125,  # randomly shift images horizontally (fraction of total width)\n",
    "    height_shift_range=0.125,  # randomly shift images vertically (fraction of total height)\n",
    "    horizontal_flip=True,  # randomly flip images\n",
    "\n",
    ")\n",
    "\n",
    "# This type of generator is used to test the model\n",
    "test_datagen = ImageDataGenerator(\n",
    "    rescale=RESCALE,\n",
    ")\n",
    "\n"
   ]
  },
  {
   "cell_type": "markdown",
   "metadata": {},
   "source": [
    "\n",
    "### Function for Top 10 accuracy"
   ]
  },
  {
   "cell_type": "code",
   "execution_count": 6,
   "metadata": {},
   "outputs": [],
   "source": [
    "top10_acc = functools.partial(keras.metrics.top_k_categorical_accuracy, k=10)\n",
    "\n",
    "top10_acc.__name__ = 'top10_acc'"
   ]
  },
  {
   "cell_type": "code",
   "execution_count": 7,
   "metadata": {},
   "outputs": [],
   "source": [
    "def create_model(input_shape, num_classes):\n",
    "    \n",
    "    # Base model, with weights pre-trained on ImageNet.\n",
    "    base_model = NASNetMobile(input_shape, weights='imagenet', include_top=False)\n",
    "\n",
    "    for layer in base_model.layers:\n",
    "        layer.trainable = False\n",
    "\n",
    "    model = Sequential()\n",
    "    model.add(base_model)\n",
    "    model.add(GlobalAveragePooling2D())\n",
    "    model.add(Dropout(0.5))\n",
    "    model.add(Dense(num_classes, activation='softmax'))\n",
    "    optimizer = RMSprop()\n",
    "\n",
    "    model.compile(\n",
    "        loss = 'categorical_crossentropy',\n",
    "        optimizer = optimizer,\n",
    "        metrics = ['accuracy', 'top_k_categorical_accuracy',top10_acc]  # top1, top5 and top10 accuracies\n",
    "    )\n",
    "    \n",
    "    return model"
   ]
  },
  {
   "cell_type": "code",
   "execution_count": null,
   "metadata": {},
   "outputs": [
    {
     "name": "stdout",
     "output_type": "stream",
     "text": [
      "Found 90900 validated image filenames belonging to 101 classes.\n",
      "Found 10100 validated image filenames belonging to 101 classes.\n",
      "Epoch 1/5\n",
      "1421/1421 [==============================] - 10383s 7s/step - loss: 3.3362 - accuracy: 0.2370 - top_k_categorical_accuracy: 0.4714 - top10_acc: 0.5966 - val_loss: 3.4331 - val_accuracy: 0.2872 - val_top_k_categorical_accuracy: 0.5760 - val_top10_acc: 0.7078\n",
      "Epoch 2/5\n",
      "1421/1421 [==============================] - 9763s 7s/step - loss: 2.9317 - accuracy: 0.3158 - top_k_categorical_accuracy: 0.5828 - top10_acc: 0.7074 - val_loss: 3.3068 - val_accuracy: 0.3252 - val_top_k_categorical_accuracy: 0.6123 - val_top10_acc: 0.7396\n",
      "Epoch 3/5\n",
      "1421/1421 [==============================] - 9739s 7s/step - loss: 2.8974 - accuracy: 0.3288 - top_k_categorical_accuracy: 0.5988 - top10_acc: 0.7210 - val_loss: 3.3136 - val_accuracy: 0.3234 - val_top_k_categorical_accuracy: 0.6136 - val_top10_acc: 0.7388\n",
      "Epoch 4/5\n",
      "1421/1421 [==============================] - 10092s 7s/step - loss: 2.8892 - accuracy: 0.3361 - top_k_categorical_accuracy: 0.6044 - top10_acc: 0.7286 - val_loss: 3.2910 - val_accuracy: 0.3248 - val_top_k_categorical_accuracy: 0.6270 - val_top10_acc: 0.7492\n",
      "Epoch 5/5\n",
      " 573/1421 [===========>..................] - ETA: 1:36:51 - loss: 2.8858 - accuracy: 0.3337 - top_k_categorical_accuracy: 0.6072 - top10_acc: 0.7315"
     ]
    }
   ],
   "source": [
    "# Image data generator settings\n",
    "TARGET_SIZE = (224,224)\n",
    "COLOR_MODE = \"rgb\"\n",
    "BATCH_SIZE = 64\n",
    "CLASS_MODE = \"categorical\"\n",
    "\n",
    "\n",
    "# Training settings\n",
    "NUM_FOLDS = 5\n",
    "VALIDATION_SPLIT = 0.1\n",
    "NUM_EPOCHS = 5\n",
    "\n",
    "# Create train and test dataset\n",
    "d_train, d_test = train_test_split(dataset, test_size = VALIDATION_SPLIT)\n",
    "\n",
    "# Extract train dataset\n",
    "#d_train = dataset[train_index]\n",
    "# Split train dataset to form train and validation dataset\n",
    "d_train, d_val = train_test_split(dataset, test_size = VALIDATION_SPLIT)\n",
    "\n",
    "# These are used to convert the filename,class pairs to dataframes\n",
    "FILENAME_COL = \"filename\"\n",
    "CLASS_COL = \"class\"\n",
    "COLUMNS = [FILENAME_COL, CLASS_COL]\n",
    "# Convert to dataframes\n",
    "d_train = pd.DataFrame(d_train, columns = COLUMNS)\n",
    "d_val = pd.DataFrame(d_val, columns = COLUMNS)\n",
    "\n",
    "# Create training data generators\n",
    "# Training image data generator\n",
    "train_it = train_datagen.flow_from_dataframe(\n",
    "    d_train,\n",
    "    directory = DATA_PATH,\n",
    "    x_col = FILENAME_COL,\n",
    "    y_col = CLASS_COL,\n",
    "    target_size = TARGET_SIZE,\n",
    "    color_mode = COLOR_MODE,\n",
    "    batch_size = BATCH_SIZE,\n",
    "    class_mode = CLASS_MODE,\n",
    "    shuffle = True,\n",
    "    seed = SEED\n",
    ")\n",
    "# Validation image data generator\n",
    "val_it = test_datagen.flow_from_dataframe(\n",
    "    d_val,\n",
    "    directory = DATA_PATH,\n",
    "    x_col = FILENAME_COL,\n",
    "    y_col = CLASS_COL,\n",
    "    target_size = TARGET_SIZE,\n",
    "    color_mode = COLOR_MODE,\n",
    "    batch_size = BATCH_SIZE,\n",
    "    class_mode = CLASS_MODE,\n",
    "    shuffle = False,\n",
    ")\n",
    "\n",
    "# Perform training\n",
    "# Build the model\n",
    "input_shape = (*TARGET_SIZE,3)\n",
    "num_classes = len(classes)\n",
    "model = create_model(input_shape, num_classes)\n",
    "\n",
    "# Train the model\n",
    "history = model.fit(\n",
    "    train_it,\n",
    "    validation_data=val_it,\n",
    "    epochs=NUM_EPOCHS,\n",
    "    workers=6,\n",
    "    max_queue_size=100,\n",
    "    verbose=True\n",
    ")\n",
    "\n"
   ]
  },
  {
   "cell_type": "code",
   "execution_count": null,
   "metadata": {},
   "outputs": [],
   "source": [
    "model.save(\"model-101.h5\")"
   ]
  },
  {
   "cell_type": "code",
   "execution_count": null,
   "metadata": {},
   "outputs": [],
   "source": [
    "d_test = pd.DataFrame(d_test, columns = COLUMNS)\n",
    "\n",
    "# Extract test dataset and convert to dataframe\n",
    "#d_test = pd.DataFrame(dataset[test_index], columns = COLUMNS)\n",
    "# Create test image data generator\n",
    "test_it = test_datagen.flow_from_dataframe(\n",
    "    d_test,\n",
    "    directory = DATA_PATH,\n",
    "    x_col = FILENAME_COL,\n",
    "    y_col = CLASS_COL,\n",
    "    target_size = TARGET_SIZE,\n",
    "    color_mode = COLOR_MODE,\n",
    "    batch_size = BATCH_SIZE,\n",
    "    class_mode = CLASS_MODE,\n",
    "    shuffle = False,\n",
    ")\n"
   ]
  },
  {
   "cell_type": "code",
   "execution_count": null,
   "metadata": {},
   "outputs": [],
   "source": [
    "# Test\n",
    "loss, accuracy, top5acc, top10acc = model.evaluate(test_it)\n",
    "\n",
    "print(f\"Test Accuracy Top-1: {accuracy * 100}%, Top-5: {top5acc * 100}%, Top-10: {top10acc * 100}%\")"
   ]
  },
  {
   "cell_type": "code",
   "execution_count": null,
   "metadata": {},
   "outputs": [],
   "source": [
    "plt.figure(1)\n",
    "\n",
    "# summarize history for accuracy\n",
    "plt.subplot(211) \n",
    "plt.plot(history.history['accuracy']) \n",
    "plt.plot(history.history['top_k_categorical_accuracy'])\n",
    "plt.plot(history.history['top10_acc'])\n",
    "plt.plot(history.history['val_accuracy']) \n",
    "plt.title('model accuracy') \n",
    "plt.ylabel('accuracy')\n",
    "plt.xlabel('epoch')\n",
    "plt.legend(['Top 1', ' Top 5','Top 10' , 'val'], loc='upper left')\n",
    "\n",
    "# summarize history for loss\n",
    "plt.subplot(212) \n",
    "plt.plot(history.history['loss']) \n",
    "plt.plot(history.history['val_loss']) \n",
    "plt.title('model loss')\n",
    "plt.ylabel('loss')\n",
    "plt.xlabel('epoch')\n",
    "plt.legend(['train', 'val'], loc='upper left')\n",
    "plt.tight_layout() \n",
    "plt.savefig('acc_loss_50.pdf')\n",
    "plt.show()"
   ]
  },
  {
   "cell_type": "code",
   "execution_count": null,
   "metadata": {},
   "outputs": [],
   "source": []
  }
 ],
 "metadata": {
  "kernelspec": {
   "display_name": "Python 3",
   "language": "python",
   "name": "python3"
  },
  "language_info": {
   "codemirror_mode": {
    "name": "ipython",
    "version": 3
   },
   "file_extension": ".py",
   "mimetype": "text/x-python",
   "name": "python",
   "nbconvert_exporter": "python",
   "pygments_lexer": "ipython3",
   "version": "3.7.4"
  }
 },
 "nbformat": 4,
 "nbformat_minor": 4
}
