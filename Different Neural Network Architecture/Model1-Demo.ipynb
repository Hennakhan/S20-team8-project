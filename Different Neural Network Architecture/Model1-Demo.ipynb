{
 "cells": [
  {
   "cell_type": "markdown",
   "metadata": {},
   "source": [
    " # Demo for Model1"
   ]
  },
  {
   "cell_type": "markdown",
   "metadata": {},
   "source": [
    "NOTE:  Model2-Demo.ipynb and Model3-Demo.ipynb are same as this file we have just reduced the number of classes to 50 and 25 respectively. And These Classes are randomly selected. We have not included the files in our demo but they are present in the same folder. Just follow the same instructions"
   ]
  },
  {
   "cell_type": "markdown",
   "metadata": {},
   "source": [
    "# Getting Started"
   ]
  },
  {
   "cell_type": "markdown",
   "metadata": {},
   "source": [
    "Our Demo consist of two steps, Step 1 consist of reading data, creating model, training and testing and then creating saving the model. Step 2 is to run our pretrained model and valuate results and observe prediction.\n",
    "##### Step 1. Create your own model \n",
    "##### Step 2. Load our model and see results "
   ]
  },
  {
   "cell_type": "markdown",
   "metadata": {},
   "source": [
    "Model 1 - This model is trained on 101 classes. We have calculated the top1, top5 and top 10 accuracy for this model. We have also dispalyed few prediction using interactive classification for our model."
   ]
  },
  {
   "cell_type": "markdown",
   "metadata": {},
   "source": [
    "### Top 1 Top5 and Top 10 accuracies for 101 classes"
   ]
  },
  {
   "cell_type": "markdown",
   "metadata": {},
   "source": [
    "## Step 1. Create your own model "
   ]
  },
  {
   "cell_type": "code",
   "execution_count": 2,
   "metadata": {},
   "outputs": [],
   "source": [
    "### Random seed to split data\n",
    "SEED = 42\n",
    "from random import seed as py_seed\n",
    "py_seed(SEED)\n",
    "from numpy.random import seed as np_seed\n",
    "np_seed(SEED)\n",
    "from tensorflow import random as tf_random\n",
    "tf_random.set_seed(SEED)"
   ]
  },
  {
   "cell_type": "markdown",
   "metadata": {},
   "source": [
    "### Importing libraries"
   ]
  },
  {
   "cell_type": "code",
   "execution_count": 3,
   "metadata": {},
   "outputs": [
    {
     "name": "stderr",
     "output_type": "stream",
     "text": [
      "Using TensorFlow backend.\n"
     ]
    }
   ],
   "source": [
    "from keras.preprocessing.image import ImageDataGenerator\n",
    "from keras.models import Sequential, load_model\n",
    "from keras.layers import Dense, Dropout, Flatten, Activation, GlobalAveragePooling2D\n",
    "from keras.optimizers import Adam, SGD, RMSprop\n",
    "from keras.utils import np_utils\n",
    "from keras.models import load_model\n",
    "from keras.applications.mobilenet import MobileNet\n",
    "from keras.applications.mobilenet_v2 import MobileNetV2\n",
    "from keras.applications.nasnet import NASNetMobile\n",
    "import matplotlib.pyplot as plt\n",
    "import numpy as np\n",
    "import pandas as pd\n",
    "from pathlib import Path\n",
    "import random\n",
    "from sklearn.model_selection import KFold, train_test_split\n",
    "from keras import backend as K\n",
    "import keras\n",
    "import tensorflow as tf\n",
    "import functools"
   ]
  },
  {
   "cell_type": "markdown",
   "metadata": {},
   "source": [
    "### Reading Data for all 101 classes"
   ]
  },
  {
   "cell_type": "markdown",
   "metadata": {},
   "source": [
    "In order to load in the data you will need to download the Food 101 data set that we have linked in our README.rd. and unzip and keep it same folder with this file."
   ]
  },
  {
   "cell_type": "code",
   "execution_count": 4,
   "metadata": {},
   "outputs": [],
   "source": [
    "# Data comes from here. This should contain a bunch of folders of classes, each containing examples\n",
    "DATA_PATH = Path('food-101/images')\n",
    "\n",
    "# Get class (folder) names\n",
    "classes = sorted([entry.name for entry in DATA_PATH.iterdir() if entry.is_dir()])\n",
    "\n",
    "# Load list of filenames and classes, and convert to numpy array to allow array slicing\n",
    "# For k-fold validation\n",
    "dataset = np.array([\n",
    "    (f\"{clazz}/{entry.name}\", clazz)\n",
    "    for clazz in classes\n",
    "    for entry in (DATA_PATH / clazz).iterdir()\n",
    "])"
   ]
  },
  {
   "cell_type": "markdown",
   "metadata": {},
   "source": [
    "After reading all the classes we are saving the classes again into a text file called classes_101.txt. We have similar files for Model-2 and Model-3 with name classes_50.txt and classes_25.txt. "
   ]
  },
  {
   "cell_type": "markdown",
   "metadata": {},
   "source": [
    "#### But why ?"
   ]
  },
  {
   "cell_type": "markdown",
   "metadata": {},
   "source": [
    "This step is not so important for Model-1 with all 101 classes, but it is very important for Model-2 and Model-3. Because the classes are randomly selected each time the model is created and we would like to save the selected classes for that model.\n",
    "We are selecting random classes for both the models to avoid any biases."
   ]
  },
  {
   "cell_type": "markdown",
   "metadata": {},
   "source": [
    "\"classes_101.txt\" will saved in the same folder where this file is stored"
   ]
  },
  {
   "cell_type": "code",
   "execution_count": 64,
   "metadata": {},
   "outputs": [],
   "source": [
    "# saving classes used by this model\n",
    "with open('classes_101.txt', 'w') as f:\n",
    "    f.writelines(\"%s\\n\" % clss for clss in classes)"
   ]
  },
  {
   "cell_type": "markdown",
   "metadata": {},
   "source": [
    "### Class labels"
   ]
  },
  {
   "cell_type": "markdown",
   "metadata": {},
   "source": [
    "To verifiy that everything has come in correctly we have printed out our set of class labels that will be used for labeling our data. Here we have listed all 101 food classes found in the Food 101 dataset."
   ]
  },
  {
   "cell_type": "code",
   "execution_count": 60,
   "metadata": {},
   "outputs": [
    {
     "name": "stdout",
     "output_type": "stream",
     "text": [
      "['apple_pie', 'baby_back_ribs', 'baklava', 'beef_carpaccio', 'beef_tartare', 'beet_salad', 'beignets', 'bibimbap', 'bread_pudding', 'breakfast_burrito', 'bruschetta', 'caesar_salad', 'cannoli', 'caprese_salad', 'carrot_cake', 'ceviche', 'cheese_plate', 'cheesecake', 'chicken_curry', 'chicken_quesadilla', 'chicken_wings', 'chocolate_cake', 'chocolate_mousse', 'churros', 'clam_chowder', 'club_sandwich', 'crab_cakes', 'creme_brulee', 'croque_madame', 'cup_cakes', 'deviled_eggs', 'donuts', 'dumplings', 'edamame', 'eggs_benedict', 'escargots', 'falafel', 'filet_mignon', 'fish_and_chips', 'foie_gras', 'french_fries', 'french_onion_soup', 'french_toast', 'fried_calamari', 'fried_rice', 'frozen_yogurt', 'garlic_bread', 'gnocchi', 'greek_salad', 'grilled_cheese_sandwich', 'grilled_salmon', 'guacamole', 'gyoza', 'hamburger', 'hot_and_sour_soup', 'hot_dog', 'huevos_rancheros', 'hummus', 'ice_cream', 'lasagna', 'lobster_bisque', 'lobster_roll_sandwich', 'macaroni_and_cheese', 'macarons', 'miso_soup', 'mussels', 'nachos', 'omelette', 'onion_rings', 'oysters', 'pad_thai', 'paella', 'pancakes', 'panna_cotta', 'peking_duck', 'pho', 'pizza', 'pork_chop', 'poutine', 'prime_rib', 'pulled_pork_sandwich', 'ramen', 'ravioli', 'red_velvet_cake', 'risotto', 'samosa', 'sashimi', 'scallops', 'seaweed_salad', 'shrimp_and_grits', 'spaghetti_bolognese', 'spaghetti_carbonara', 'spring_rolls', 'steak', 'strawberry_shortcake', 'sushi', 'tacos', 'takoyaki', 'tiramisu', 'tuna_tartare', 'waffles']\n"
     ]
    }
   ],
   "source": [
    "# Classes\n",
    "print(classes)"
   ]
  },
  {
   "cell_type": "markdown",
   "metadata": {},
   "source": [
    "### Implementing Datagen to read data"
   ]
  },
  {
   "cell_type": "markdown",
   "metadata": {},
   "source": [
    "Because we are working with a 5 GB dataset we need to load the images in as needed. All the images need to be the same size and be captured in the same area of the picture. For this we used the ImageDataGenerator method"
   ]
  },
  {
   "cell_type": "code",
   "execution_count": 5,
   "metadata": {},
   "outputs": [],
   "source": [
    "# create data generators\n",
    "\n",
    "# Rescale 0-255 to 0-1\n",
    "RESCALE=1./255\n",
    "\n",
    "# This type of data generator is used to train the model\n",
    "train_datagen = ImageDataGenerator(\n",
    "    rescale=RESCALE,\n",
    "    # Factors used to control\n",
    "    rotation_range=45,  # randomly rotate images in the range (degrees, 0 to 180)\n",
    "    width_shift_range=0.125,  # randomly shift images horizontally (fraction of total width)\n",
    "    height_shift_range=0.125,  # randomly shift images vertically (fraction of total height)\n",
    "    horizontal_flip=True,  # randomly flip images\n",
    "\n",
    ")\n",
    "\n",
    "# This type of generator is used to test the model\n",
    "test_datagen = ImageDataGenerator(\n",
    "    rescale=RESCALE,\n",
    ")"
   ]
  },
  {
   "cell_type": "markdown",
   "metadata": {},
   "source": [
    "\n",
    "### Function for Top 10 accuracy"
   ]
  },
  {
   "cell_type": "markdown",
   "metadata": {},
   "source": [
    "Since the WebApp we are creating will use the top 10 possible options for food selection we need to capture the top-10 accuracy for each predicition\n",
    "\n",
    "Since users will be taking pictures from their phones we needed to compensate for a few things in the image such as lack of quality, noise in the image, other food objects in the image, food shape or color difference from what was trained on, or missing that food category in our training set."
   ]
  },
  {
   "cell_type": "code",
   "execution_count": 6,
   "metadata": {},
   "outputs": [],
   "source": [
    "top10_acc = functools.partial(keras.metrics.top_k_categorical_accuracy, k=10)\n",
    "\n",
    "top10_acc.__name__ = 'top10_acc'"
   ]
  },
  {
   "cell_type": "markdown",
   "metadata": {},
   "source": [
    "### Our Model Architecture"
   ]
  },
  {
   "cell_type": "markdown",
   "metadata": {},
   "source": [
    "Our model is extended from using a pre-trained model call NASNetMobile. We have included custom metrics according to our requirement of top1, top5 and top10 accuracy "
   ]
  },
  {
   "cell_type": "code",
   "execution_count": 7,
   "metadata": {},
   "outputs": [],
   "source": [
    "def create_model(input_shape, num_classes):\n",
    "    \n",
    "    # Base model, with weights pre-trained on ImageNet.\n",
    "    base_model = NASNetMobile(input_shape, weights='imagenet', include_top=False)\n",
    "\n",
    "    for layer in base_model.layers:\n",
    "        layer.trainable = False\n",
    "\n",
    "    model = Sequential()\n",
    "    model.add(base_model)\n",
    "    model.add(GlobalAveragePooling2D())\n",
    "    model.add(Dropout(0.5))\n",
    "    model.add(Dense(num_classes, activation='softmax'))\n",
    "    optimizer = RMSprop()\n",
    "\n",
    "    model.compile(\n",
    "        loss = 'categorical_crossentropy',\n",
    "        optimizer = optimizer,\n",
    "        metrics = ['accuracy', 'top_k_categorical_accuracy',top10_acc]  # top1, top5 and top10 accuracies\n",
    "    )\n",
    "    \n",
    "    return model"
   ]
  },
  {
   "cell_type": "markdown",
   "metadata": {},
   "source": [
    "### Creating Training and testing Data"
   ]
  },
  {
   "cell_type": "markdown",
   "metadata": {},
   "source": [
    "The below code is the heart of our project. In this piece of code we are diving our data into test and train.\n",
    "Our test data is 10 percent of our entire dataset and rest 90 percent is our training data. We are further dividing our train data into 10 percent validation and 90 percent train.\n",
    "\n",
    "After creating training and test data. We are calling our create model function to train it and validate it. printing its training progress details"
   ]
  },
  {
   "cell_type": "code",
   "execution_count": 8,
   "metadata": {},
   "outputs": [
    {
     "name": "stdout",
     "output_type": "stream",
     "text": [
      "Found 90900 validated image filenames belonging to 101 classes.\n",
      "Found 10100 validated image filenames belonging to 101 classes.\n",
      "Epoch 1/5\n",
      "1421/1421 [==============================] - 10383s 7s/step - loss: 3.3362 - accuracy: 0.2370 - top_k_categorical_accuracy: 0.4714 - top10_acc: 0.5966 - val_loss: 3.4331 - val_accuracy: 0.2872 - val_top_k_categorical_accuracy: 0.5760 - val_top10_acc: 0.7078\n",
      "Epoch 2/5\n",
      "1421/1421 [==============================] - 9763s 7s/step - loss: 2.9317 - accuracy: 0.3158 - top_k_categorical_accuracy: 0.5828 - top10_acc: 0.7074 - val_loss: 3.3068 - val_accuracy: 0.3252 - val_top_k_categorical_accuracy: 0.6123 - val_top10_acc: 0.7396\n",
      "Epoch 3/5\n",
      "1421/1421 [==============================] - 9739s 7s/step - loss: 2.8974 - accuracy: 0.3288 - top_k_categorical_accuracy: 0.5988 - top10_acc: 0.7210 - val_loss: 3.3136 - val_accuracy: 0.3234 - val_top_k_categorical_accuracy: 0.6136 - val_top10_acc: 0.7388\n",
      "Epoch 4/5\n",
      "1421/1421 [==============================] - 10092s 7s/step - loss: 2.8892 - accuracy: 0.3361 - top_k_categorical_accuracy: 0.6044 - top10_acc: 0.7286 - val_loss: 3.2910 - val_accuracy: 0.3248 - val_top_k_categorical_accuracy: 0.6270 - val_top10_acc: 0.7492\n",
      "Epoch 5/5\n",
      "1421/1421 [==============================] - 10913s 8s/step - loss: 2.9000 - accuracy: 0.3358 - top_k_categorical_accuracy: 0.6067 - top10_acc: 0.7296 - val_loss: 3.3022 - val_accuracy: 0.3281 - val_top_k_categorical_accuracy: 0.6172 - val_top10_acc: 0.7447\n"
     ]
    }
   ],
   "source": [
    "# Image data generator settings\n",
    "TARGET_SIZE = (224,224)\n",
    "COLOR_MODE = \"rgb\"\n",
    "BATCH_SIZE = 64\n",
    "CLASS_MODE = \"categorical\"\n",
    "\n",
    "\n",
    "# Training settings\n",
    "NUM_FOLDS = 5\n",
    "VALIDATION_SPLIT = 0.1\n",
    "NUM_EPOCHS = 5\n",
    "\n",
    "# Create train and test dataset\n",
    "d_train, d_test = train_test_split(dataset, test_size = VALIDATION_SPLIT)\n",
    "\n",
    "# Extract train dataset\n",
    "#d_train = dataset[train_index]\n",
    "# Split train dataset to form train and validation dataset\n",
    "d_train, d_val = train_test_split(dataset, test_size = VALIDATION_SPLIT)\n",
    "\n",
    "# These are used to convert the filename,class pairs to dataframes\n",
    "FILENAME_COL = \"filename\"\n",
    "CLASS_COL = \"class\"\n",
    "COLUMNS = [FILENAME_COL, CLASS_COL]\n",
    "# Convert to dataframes\n",
    "d_train = pd.DataFrame(d_train, columns = COLUMNS)\n",
    "d_val = pd.DataFrame(d_val, columns = COLUMNS)\n",
    "\n",
    "# Create training data generators\n",
    "# Training image data generator\n",
    "train_it = train_datagen.flow_from_dataframe(\n",
    "    d_train,\n",
    "    directory = DATA_PATH,\n",
    "    x_col = FILENAME_COL,\n",
    "    y_col = CLASS_COL,\n",
    "    target_size = TARGET_SIZE,\n",
    "    color_mode = COLOR_MODE,\n",
    "    batch_size = BATCH_SIZE,\n",
    "    class_mode = CLASS_MODE,\n",
    "    shuffle = True,\n",
    "    seed = SEED\n",
    ")\n",
    "# Validation image data generator\n",
    "val_it = test_datagen.flow_from_dataframe(\n",
    "    d_val,\n",
    "    directory = DATA_PATH,\n",
    "    x_col = FILENAME_COL,\n",
    "    y_col = CLASS_COL,\n",
    "    target_size = TARGET_SIZE,\n",
    "    color_mode = COLOR_MODE,\n",
    "    batch_size = BATCH_SIZE,\n",
    "    class_mode = CLASS_MODE,\n",
    "    shuffle = False,\n",
    ")\n",
    "\n",
    "# Perform training\n",
    "# Build the model\n",
    "input_shape = (*TARGET_SIZE,3)\n",
    "num_classes = len(classes)\n",
    "model = create_model(input_shape, num_classes)\n",
    "\n",
    "# Train the model\n",
    "history = model.fit(\n",
    "    train_it,\n",
    "    validation_data=val_it,\n",
    "    epochs=NUM_EPOCHS,\n",
    "    workers=6,\n",
    "    max_queue_size=100,\n",
    "    verbose=True\n",
    ")\n",
    "\n"
   ]
  },
  {
   "cell_type": "markdown",
   "metadata": {},
   "source": [
    "### Summary for our Model"
   ]
  },
  {
   "cell_type": "code",
   "execution_count": 62,
   "metadata": {},
   "outputs": [
    {
     "name": "stdout",
     "output_type": "stream",
     "text": [
      "Model: \"sequential_1\"\n",
      "_________________________________________________________________\n",
      "Layer (type)                 Output Shape              Param #   \n",
      "=================================================================\n",
      "NASNet (Model)               (None, 7, 7, 1056)        4269716   \n",
      "_________________________________________________________________\n",
      "global_average_pooling2d_1 ( (None, 1056)              0         \n",
      "_________________________________________________________________\n",
      "dropout_1 (Dropout)          (None, 1056)              0         \n",
      "_________________________________________________________________\n",
      "dense_1 (Dense)              (None, 101)               106757    \n",
      "=================================================================\n",
      "Total params: 4,376,473\n",
      "Trainable params: 106,757\n",
      "Non-trainable params: 4,269,716\n",
      "_________________________________________________________________\n"
     ]
    }
   ],
   "source": [
    "model.summary()"
   ]
  },
  {
   "cell_type": "markdown",
   "metadata": {},
   "source": [
    "### Evaluating our model on the test data"
   ]
  },
  {
   "cell_type": "markdown",
   "metadata": {},
   "source": [
    "We are evaluating our final Top1, Top2, Top3 accuracy on the test data "
   ]
  },
  {
   "cell_type": "code",
   "execution_count": 11,
   "metadata": {},
   "outputs": [
    {
     "name": "stdout",
     "output_type": "stream",
     "text": [
      "Found 10100 validated image filenames belonging to 101 classes.\n"
     ]
    }
   ],
   "source": [
    "d_test = pd.DataFrame(d_test, columns = COLUMNS)\n",
    "\n",
    "# Extract test dataset and convert to dataframe\n",
    "#d_test = pd.DataFrame(dataset[test_index], columns = COLUMNS)\n",
    "# Create test image data generator\n",
    "test_it = test_datagen.flow_from_dataframe(\n",
    "    d_test,\n",
    "    directory = DATA_PATH,\n",
    "    x_col = FILENAME_COL,\n",
    "    y_col = CLASS_COL,\n",
    "    target_size = TARGET_SIZE,\n",
    "    color_mode = COLOR_MODE,\n",
    "    batch_size = BATCH_SIZE,\n",
    "    class_mode = CLASS_MODE,\n",
    "    shuffle = False,\n",
    ")\n"
   ]
  },
  {
   "cell_type": "code",
   "execution_count": 12,
   "metadata": {},
   "outputs": [
    {
     "name": "stdout",
     "output_type": "stream",
     "text": [
      "158/158 [==============================] - 1052s 7s/step\n",
      "Test Accuracy Top-1: 34.18811857700348%, Top-5: 62.33663558959961%, Top-10: 74.93069171905518%\n"
     ]
    }
   ],
   "source": [
    "# Test\n",
    "loss, accuracy, top5acc, top10acc = model.evaluate(test_it)\n",
    "\n",
    "print(f\"Test Accuracy Top-1: {accuracy * 100}%, Top-5: {top5acc * 100}%, Top-10: {top10acc * 100}%\")"
   ]
  },
  {
   "cell_type": "markdown",
   "metadata": {},
   "source": [
    "### Plotting accuracies"
   ]
  },
  {
   "cell_type": "markdown",
   "metadata": {},
   "source": [
    "We can then plot the accuracy and loss of each of our outputs as well as the total loss of the neural net. After plotting the data we then automatically save the model based on its statistics."
   ]
  },
  {
   "cell_type": "code",
   "execution_count": 13,
   "metadata": {},
   "outputs": [
    {
     "data": {
      "image/png": "[encoded data removed]",
      "text/plain": [
       "<Figure size 432x288 with 2 Axes>"
      ]
     },
     "metadata": {
      "needs_background": "light"
     },
     "output_type": "display_data"
    }
   ],
   "source": [
    "plt.figure(1)\n",
    "\n",
    "# summarize history for accuracy\n",
    "plt.subplot(211) \n",
    "plt.plot(history.history['accuracy']) \n",
    "plt.plot(history.history['top_k_categorical_accuracy'])\n",
    "plt.plot(history.history['top10_acc'])\n",
    "plt.plot(history.history['val_accuracy']) \n",
    "plt.title('model accuracy') \n",
    "plt.ylabel('accuracy')\n",
    "plt.xlabel('epoch')\n",
    "plt.legend(['Top 1', ' Top 5','Top 10' , 'val'], loc='upper left')\n",
    "\n",
    "# summarize history for loss\n",
    "plt.subplot(212) \n",
    "plt.plot(history.history['loss']) \n",
    "plt.plot(history.history['val_loss']) \n",
    "plt.title('model loss')\n",
    "plt.ylabel('loss')\n",
    "plt.xlabel('epoch')\n",
    "plt.legend(['train', 'val'], loc='upper left')\n",
    "plt.tight_layout() \n",
    "plt.savefig('acc_loss_50.pdf')\n",
    "plt.show()"
   ]
  },
  {
   "cell_type": "markdown",
   "metadata": {},
   "source": [
    "### Here we are Saving our Model "
   ]
  },
  {
   "cell_type": "code",
   "execution_count": 9,
   "metadata": {},
   "outputs": [],
   "source": [
    "model.save(\"model-101.h5\")"
   ]
  },
  {
   "cell_type": "markdown",
   "metadata": {},
   "source": [
    "# Step 2. Load our pretrained-model and see results"
   ]
  },
  {
   "cell_type": "markdown",
   "metadata": {},
   "source": [
    "## Interactive Classification"
   ]
  },
  {
   "cell_type": "markdown",
   "metadata": {},
   "source": [
    "In Interactive classification we displaying the Top1, Top 5 and Top 10 prediction made by model 1 (101 classes)"
   ]
  },
  {
   "cell_type": "markdown",
   "metadata": {},
   "source": [
    "## Importing libraries"
   ]
  },
  {
   "cell_type": "code",
   "execution_count": 66,
   "metadata": {},
   "outputs": [],
   "source": [
    "import tensorflow as tf\n",
    "from PIL import Image\n",
    "import matplotlib.pyplot as plt\n",
    "import os\n",
    "import numpy as np \n",
    "from keras.models import Sequential \n",
    "#from keras.layer import \n",
    "import keras\n",
    "import functools"
   ]
  },
  {
   "cell_type": "markdown",
   "metadata": {},
   "source": [
    "Since our model has custom metrics we had to specify the custom function we are using before loading our model"
   ]
  },
  {
   "cell_type": "code",
   "execution_count": 67,
   "metadata": {},
   "outputs": [],
   "source": [
    "top10_acc = functools.partial(keras.metrics.top_k_categorical_accuracy, k=10)\n",
    "\n",
    "top10_acc.__name__ = 'top10_acc'"
   ]
  },
  {
   "cell_type": "markdown",
   "metadata": {},
   "source": [
    "## Loading Model for prediction"
   ]
  },
  {
   "cell_type": "markdown",
   "metadata": {},
   "source": [
    "Then we use load_model function to load our model created in Step 1.\n",
    "\n",
    "Keras load_model has an attribute 'custom_objects' which is by default set to 'None', But if you have a custom metrics for either loss or accuracy you must mention it as displayed below. "
   ]
  },
  {
   "cell_type": "code",
   "execution_count": 68,
   "metadata": {},
   "outputs": [],
   "source": [
    "# loading model \n",
    "model = tf.keras.models.load_model(\"model-101.h5\", custom_objects={'top10_acc':top10_acc})"
   ]
  },
  {
   "cell_type": "markdown",
   "metadata": {},
   "source": [
    "## Loading Label"
   ]
  },
  {
   "cell_type": "markdown",
   "metadata": {},
   "source": [
    "We are loading labels from the previously created 'classes_101.txt' file.\n",
    "\n",
    "Again this step is important because we have different classes for Model1, Model2, and Model3. And for Model2 and Model3 these classes are randomly created every time a new model is created in Step 1."
   ]
  },
  {
   "cell_type": "code",
   "execution_count": 69,
   "metadata": {},
   "outputs": [],
   "source": [
    "# getting the classes\n",
    "classes=[]\n",
    "with open(\"classes_101.txt\") as categories:\n",
    "    for cl in categories:\n",
    "        classes.append(cl.strip())"
   ]
  },
  {
   "cell_type": "code",
   "execution_count": 74,
   "metadata": {},
   "outputs": [],
   "source": [
    "from PIL import Image\n",
    "# change the file name if you want to test it with different picture\n",
    "image_path = []\n",
    "image_path.append(\"images_to_predict/1.jpg\")\n",
    "image_path.append(\"images_to_predict/35.jpg\")\n",
    "image_path.append(\"images_to_predict/38.jpg\")\n",
    "image_path.append(\"images_to_predict/34.jpg\")"
   ]
  },
  {
   "cell_type": "markdown",
   "metadata": {},
   "source": [
    "Resizing the image and converting to array. The prediction for all the image are storeed in result list."
   ]
  },
  {
   "cell_type": "code",
   "execution_count": 75,
   "metadata": {},
   "outputs": [
    {
     "ename": "FileNotFoundError",
     "evalue": "[Errno 2] No such file or directory: 'images_to_predict/1.jpg'",
     "output_type": "error",
     "traceback": [
      "\u001b[1;31m---------------------------------------------------------------------------\u001b[0m",
      "\u001b[1;31mFileNotFoundError\u001b[0m                         Traceback (most recent call last)",
      "\u001b[1;32m<ipython-input-75-9237fad90917>\u001b[0m in \u001b[0;36m<module>\u001b[1;34m\u001b[0m\n\u001b[0;32m      4\u001b[0m     \u001b[0mimage\u001b[0m \u001b[1;33m=\u001b[0m \u001b[1;33m[\u001b[0m\u001b[1;33m]\u001b[0m\u001b[1;33m\u001b[0m\u001b[1;33m\u001b[0m\u001b[0m\n\u001b[0;32m      5\u001b[0m     \u001b[0mimg_resize\u001b[0m \u001b[1;33m=\u001b[0m \u001b[1;33m(\u001b[0m\u001b[1;36m224\u001b[0m\u001b[1;33m,\u001b[0m\u001b[1;36m224\u001b[0m\u001b[1;33m)\u001b[0m\u001b[1;33m\u001b[0m\u001b[1;33m\u001b[0m\u001b[0m\n\u001b[1;32m----> 6\u001b[1;33m     \u001b[0mimg\u001b[0m \u001b[1;33m=\u001b[0m \u001b[0mImage\u001b[0m\u001b[1;33m.\u001b[0m\u001b[0mopen\u001b[0m\u001b[1;33m(\u001b[0m\u001b[0mimage_path\u001b[0m\u001b[1;33m[\u001b[0m\u001b[0mim\u001b[0m\u001b[1;33m]\u001b[0m\u001b[1;33m)\u001b[0m\u001b[1;33m\u001b[0m\u001b[1;33m\u001b[0m\u001b[0m\n\u001b[0m\u001b[0;32m      7\u001b[0m     \u001b[0mimg\u001b[0m \u001b[1;33m=\u001b[0m \u001b[0mimg\u001b[0m\u001b[1;33m.\u001b[0m\u001b[0mresize\u001b[0m\u001b[1;33m(\u001b[0m\u001b[0mimg_resize\u001b[0m\u001b[1;33m)\u001b[0m\u001b[1;33m\u001b[0m\u001b[1;33m\u001b[0m\u001b[0m\n\u001b[0;32m      8\u001b[0m     \u001b[0mimg\u001b[0m \u001b[1;33m=\u001b[0m \u001b[0mnp\u001b[0m\u001b[1;33m.\u001b[0m\u001b[0masarray\u001b[0m\u001b[1;33m(\u001b[0m\u001b[0mimg\u001b[0m\u001b[1;33m)\u001b[0m\u001b[1;33m\u001b[0m\u001b[1;33m\u001b[0m\u001b[0m\n",
      "\u001b[1;32m~\\Anaconda3\\lib\\site-packages\\PIL\\Image.py\u001b[0m in \u001b[0;36mopen\u001b[1;34m(fp, mode)\u001b[0m\n\u001b[0;32m   2764\u001b[0m \u001b[1;33m\u001b[0m\u001b[0m\n\u001b[0;32m   2765\u001b[0m     \u001b[1;32mif\u001b[0m \u001b[0mfilename\u001b[0m\u001b[1;33m:\u001b[0m\u001b[1;33m\u001b[0m\u001b[1;33m\u001b[0m\u001b[0m\n\u001b[1;32m-> 2766\u001b[1;33m         \u001b[0mfp\u001b[0m \u001b[1;33m=\u001b[0m \u001b[0mbuiltins\u001b[0m\u001b[1;33m.\u001b[0m\u001b[0mopen\u001b[0m\u001b[1;33m(\u001b[0m\u001b[0mfilename\u001b[0m\u001b[1;33m,\u001b[0m \u001b[1;34m\"rb\"\u001b[0m\u001b[1;33m)\u001b[0m\u001b[1;33m\u001b[0m\u001b[1;33m\u001b[0m\u001b[0m\n\u001b[0m\u001b[0;32m   2767\u001b[0m         \u001b[0mexclusive_fp\u001b[0m \u001b[1;33m=\u001b[0m \u001b[1;32mTrue\u001b[0m\u001b[1;33m\u001b[0m\u001b[1;33m\u001b[0m\u001b[0m\n\u001b[0;32m   2768\u001b[0m \u001b[1;33m\u001b[0m\u001b[0m\n",
      "\u001b[1;31mFileNotFoundError\u001b[0m: [Errno 2] No such file or directory: 'images_to_predict/1.jpg'"
     ]
    }
   ],
   "source": [
    "imgPred = []\n",
    "result = []\n",
    "for im in range(len(image_path)):\n",
    "    image = []\n",
    "    img_resize = (224,224)\n",
    "    img = Image.open(image_path[im])\n",
    "    img = img.resize(img_resize)\n",
    "    img = np.asarray(img)\n",
    "    image.append(img)\n",
    "    data_train = np.array(image, dtype=np.float32)/255\n",
    "    prediction = model.predict([data_train])\n",
    "    result.append(classes[np.argmax(prediction)])\n",
    "    imgPred.append( plt.imread(image_path[im]) )"
   ]
  },
  {
   "cell_type": "markdown",
   "metadata": {},
   "source": [
    "Take care of the index 0 (zero) is for first image imgPred[0] and result[0]. Rest everything is same"
   ]
  },
  {
   "cell_type": "code",
   "execution_count": null,
   "metadata": {},
   "outputs": [],
   "source": [
    "fig = plt.figure()\n",
    "fig.set_size_inches(6,6)\n",
    "\n",
    "#Take care of the index 0 is for first image\n",
    "plt.imshow(imgPred[0])\n",
    "result[0] # Should be takoyaki"
   ]
  },
  {
   "cell_type": "markdown",
   "metadata": {},
   "source": [
    "Take care of the index 1 (one) is for second image imgPred[1] and result[1]. Rest everything is same"
   ]
  },
  {
   "cell_type": "code",
   "execution_count": null,
   "metadata": {},
   "outputs": [],
   "source": [
    "fig = plt.figure()\n",
    "fig.set_size_inches(6,6)\n",
    "\n",
    "# Take care of the index 1 (one) is for first image imgPred[1] and result[1]\n",
    "plt.imshow(imgPred[1])\n",
    "result[1] # should be donuts"
   ]
  },
  {
   "cell_type": "code",
   "execution_count": null,
   "metadata": {},
   "outputs": [],
   "source": [
    "fig = plt.figure()\n",
    "fig.set_size_inches(6,6)\n",
    "plt.imshow(imgPred[2])\n",
    "result[2] ## Its clam chowder"
   ]
  },
  {
   "cell_type": "code",
   "execution_count": null,
   "metadata": {},
   "outputs": [],
   "source": [
    "fig = plt.figure()\n",
    "fig.set_size_inches(6,6)\n",
    "plt.imshow(imgPred[3])\n",
    "result[3] ## Should be waffle"
   ]
  },
  {
   "cell_type": "markdown",
   "metadata": {},
   "source": [
    "## Top 5 and Top 10 Prediction"
   ]
  },
  {
   "cell_type": "markdown",
   "metadata": {},
   "source": [
    "For Top 5 and Top 10 accuracy we storing top 10 values from the predict for each image"
   ]
  },
  {
   "cell_type": "code",
   "execution_count": null,
   "metadata": {},
   "outputs": [],
   "source": [
    "imgPred = []\n",
    "result = []\n",
    "top10 = [] \n",
    "for im in range(len(image_path)):\n",
    "    image = []\n",
    "    img_resize = (224,224)\n",
    "    img = Image.open(image_path[im])\n",
    "    img = img.resize(img_resize)\n",
    "    img = np.asarray(img)\n",
    "    image.append(img)\n",
    "    data_train = np.array(image, dtype=np.float32)/255\n",
    "    prediction = model.predict([data_train])\n",
    "    result.append(classes[np.argmax(prediction)])\n",
    "    sorted_prediction = []\n",
    "    for i in range(len(classes)):\n",
    "        temp=[]\n",
    "        temp.append(classes[i])\n",
    "        temp.append(prediction[0][i])\n",
    "        sorted_prediction.append(temp)\n",
    "    sor = sorted(sorted_prediction,key=lambda ls:ls[1], reverse=True)\n",
    "    res = []\n",
    "    for j in range(0, 10):\n",
    "        res.append(sor[j][0]) \n",
    "    top10.append(res)"
   ]
  },
  {
   "cell_type": "markdown",
   "metadata": {},
   "source": [
    "### Display top 5 and top 10 for all the images"
   ]
  },
  {
   "cell_type": "markdown",
   "metadata": {},
   "source": [
    "In below code top10[0][i] and image_path[0] zero here represents first image. You can replace 0 with 1,2,3 etc. Rest everything remains the same"
   ]
  },
  {
   "cell_type": "code",
   "execution_count": null,
   "metadata": {},
   "outputs": [],
   "source": [
    "print(\"top 5 and top 10:\")\n",
    "for i in range(0, 10):\n",
    "    # top10[0][i] zero here represents first image \n",
    "    print(top10[0][i])\n",
    "img = plt.imread(image_path[0])\n",
    "plt.imshow(img)  # Should be takoyaki"
   ]
  },
  {
   "cell_type": "code",
   "execution_count": null,
   "metadata": {},
   "outputs": [],
   "source": [
    "print(\"top 5 and top 10:\")\n",
    "for i in range(0, 10):\n",
    "    print(top10[1][i])\n",
    "img = plt.imread(image_path[1])\n",
    "plt.imshow(img) #Should be donuts"
   ]
  },
  {
   "cell_type": "code",
   "execution_count": null,
   "metadata": {},
   "outputs": [],
   "source": [
    "print(\"top 5 and top 10:\")\n",
    "for i in range(0, 10):\n",
    "    print(top10[2][i])\n",
    "img = plt.imread(image_path[2])\n",
    "plt.imshow(img)  # Should be clam_chowder"
   ]
  },
  {
   "cell_type": "code",
   "execution_count": null,
   "metadata": {},
   "outputs": [],
   "source": [
    "print(\"top 5 and top 10:\")\n",
    "for i in range(0, 10):\n",
    "    print(top10[3][i])\n",
    "img = plt.imread(image_path[3])\n",
    "plt.imshow(img)  # Should be waffle"
   ]
  },
  {
   "cell_type": "markdown",
   "metadata": {},
   "source": [
    "## THE END"
   ]
  },
  {
   "cell_type": "markdown",
   "metadata": {},
   "source": [
    "NOTE:  Model2-Demo.ipynb and Model3-Demo.ipynb are same as this file we have just reduced the number of classes to 50 and 25 respectively. And These Classes are randomly selected. We have not included the files in our demo but they are present in the same folder. Just follow the same instructions"
   ]
  },
  {
   "cell_type": "code",
   "execution_count": null,
   "metadata": {},
   "outputs": [],
   "source": []
  },
  {
   "cell_type": "code",
   "execution_count": null,
   "metadata": {},
   "outputs": [],
   "source": []
  }
 ],
 "metadata": {
  "kernelspec": {
   "display_name": "Python 3",
   "language": "python",
   "name": "python3"
  },
  "language_info": {
   "codemirror_mode": {
    "name": "ipython",
    "version": 3
   },
   "file_extension": ".py",
   "mimetype": "text/x-python",
   "name": "python",
   "nbconvert_exporter": "python",
   "pygments_lexer": "ipython3",
   "version": "3.7.4"
  }
 },
 "nbformat": 4,
 "nbformat_minor": 4
}
