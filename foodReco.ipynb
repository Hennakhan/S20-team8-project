{
 "cells": [
  {
   "cell_type": "code",
   "execution_count": 1,
   "metadata": {
    "_cell_guid": "b1076dfc-b9ad-4769-8c92-a6c4dae69d19",
    "_uuid": "8f2839f25d086af736a60e9eeb907d3b93b6e0e5"
   },
   "outputs": [
    {
     "name": "stderr",
     "output_type": "stream",
     "text": [
      "Using TensorFlow backend.\n"
     ]
    }
   ],
   "source": [
    "import numpy as np # linear algebra\n",
    "import pandas as pd # data processing, CSV file I/O (e.g. pd.read_csv)\n",
    "import matplotlib.pyplot as plt\n",
    "import os\n",
    "from PIL import Image\n",
    "Image.LOAD_TRUNCATED_IMAGES = True\n",
    "import tensorflow as tf\n",
    "from keras.preprocessing import image\n",
    "from keras.callbacks import EarlyStopping\n",
    "import keras\n",
    "from keras import backend as K\n",
    "from keras.applications.xception import preprocess_input\n",
    "from sklearn.model_selection import train_test_split"
   ]
  },
  {
   "cell_type": "code",
   "execution_count": 2,
   "metadata": {},
   "outputs": [],
   "source": [
    "# getting files in the folder\n",
    "files=[]\n",
    "input_folder='foodinput'\n",
    "\n",
    "# files in the folder \n",
    "for file in os.listdir(input_folder):\n",
    "    files.append(file)"
   ]
  },
  {
   "cell_type": "code",
   "execution_count": 3,
   "metadata": {},
   "outputs": [],
   "source": [
    "# getting the images from the folders\n",
    "data_list=[]\n",
    "input_path=input_folder+'/'\n",
    "for item in files:\n",
    "    data_list.append(os.listdir(input_path+item+'/'))"
   ]
  },
  {
   "cell_type": "code",
   "execution_count": 4,
   "metadata": {},
   "outputs": [
    {
     "name": "stdout",
     "output_type": "stream",
     "text": [
      "(4000, 299, 299, 3)\n",
      "(4000, 4)\n"
     ]
    }
   ],
   "source": [
    "# grab images and converting to a np array \n",
    "def grab_image(img_path):\n",
    "    img = image.load_img(img_path, target_size=(299, 299))\n",
    "    x = image.img_to_array(img)\n",
    "    x = np.expand_dims(x, axis=0)\n",
    "    x = preprocess_input(x) # returns values from o to 1\n",
    "    return x\n",
    "\n",
    "X_tr = []\n",
    "y = []\n",
    "for label in range(len(data_list)):\n",
    "    #print(files[label])\n",
    "    for pic_name in data_list[label]:\n",
    "        y = np.append(y, label)\n",
    "        X_tr.append(grab_image(input_path+files[label]+'/'+ pic_name))\n",
    "\n",
    "        \n",
    "X = np.concatenate(X_tr)\n",
    "Y = keras.utils.to_categorical(y)\n",
    "print(X.shape)\n",
    "print(Y.shape)"
   ]
  },
  {
   "cell_type": "code",
   "execution_count": 5,
   "metadata": {},
   "outputs": [
    {
     "name": "stdout",
     "output_type": "stream",
     "text": [
      "(3200, 299, 299, 3)\n",
      "(800, 299, 299, 3)\n",
      "(3200, 4)\n",
      "(800, 4)\n"
     ]
    }
   ],
   "source": [
    "X_train, X_test, y_train, y_test = train_test_split(X, Y, test_size=0.20, random_state=42)\n",
    "print(X_train.shape)\n",
    "print(X_test.shape)\n",
    "print(y_train.shape)\n",
    "print(y_test.shape)"
   ]
  },
  {
   "cell_type": "code",
   "execution_count": 6,
   "metadata": {},
   "outputs": [],
   "source": [
    "# save to csv file\n",
    "#np.save('X_train', X_train)\n",
    "#np.save('X_test', X_test)\n",
    "#np.save('y_train', y_train)\n",
    "#np.save('y_test', y_test)\n",
    "\n",
    "#loaded_array = np.load('X_train.npy')\n",
    "\n",
    "#The files created where quite huge so we are not creating them anymore"
   ]
  },
  {
   "cell_type": "code",
   "execution_count": null,
   "metadata": {},
   "outputs": [],
   "source": []
  },
  {
   "cell_type": "code",
   "execution_count": null,
   "metadata": {},
   "outputs": [],
   "source": []
  },
  {
   "cell_type": "code",
   "execution_count": 7,
   "metadata": {},
   "outputs": [],
   "source": [
    "# Displaying pictures \n",
    "#apple_fig, apple_axes = plt.subplots(3,3)\n",
    "#apple_fig.set_figheight(24)\n",
    "#apple_fig.set_figwidth(24)\n",
    "\n",
    "#for i, axis in enumerate(apple_axes):\n",
    "#    for j, f in enumerate(axis):\n",
    "#        img = plt.imread(apple+training_apple[i*3+j])\n",
    "#        apple_axes[i,j].imshow(img)\n",
    "#        apple_axes[i,j].set_title(\"Shape.{}\".format(img.shape))"
   ]
  },
  {
   "cell_type": "code",
   "execution_count": null,
   "metadata": {},
   "outputs": [],
   "source": []
  },
  {
   "cell_type": "code",
   "execution_count": 17,
   "metadata": {},
   "outputs": [],
   "source": [
    "# very important \n",
    "input_shape = (299,299,3)\n",
    "# number of classes \n",
    "num_classes = 101"
   ]
  },
  {
   "cell_type": "code",
   "execution_count": 18,
   "metadata": {},
   "outputs": [],
   "source": [
    "from keras.models import Sequential, load_model\n",
    "from keras.layers import Dense, Dropout, Flatten, Activation\n",
    "from keras.optimizers import SGD\n",
    "from keras.utils import np_utils\n",
    "from keras.models import load_model\n",
    "from keras.applications.mobilenet import MobileNet"
   ]
  },
  {
   "cell_type": "code",
   "execution_count": 19,
   "metadata": {},
   "outputs": [],
   "source": [
    "# MobileNet model, with weights pre-trained on ImageNet.\n",
    "mobilenet = MobileNet(input_shape, weights='imagenet', include_top=False)"
   ]
  },
  {
   "cell_type": "code",
   "execution_count": 20,
   "metadata": {},
   "outputs": [
    {
     "name": "stdout",
     "output_type": "stream",
     "text": [
      "Model: \"sequential_2\"\n",
      "_________________________________________________________________\n",
      "Layer (type)                 Output Shape              Param #   \n",
      "=================================================================\n",
      "mobilenet_1.00_224 (Model)   (None, 9, 9, 1024)        3228864   \n",
      "_________________________________________________________________\n",
      "flatten_2 (Flatten)          (None, 82944)             0         \n",
      "_________________________________________________________________\n",
      "dense_3 (Dense)              (None, 256)               21233920  \n",
      "_________________________________________________________________\n",
      "dropout_2 (Dropout)          (None, 256)               0         \n",
      "_________________________________________________________________\n",
      "dense_4 (Dense)              (None, 4)                 1028      \n",
      "=================================================================\n",
      "Total params: 24,463,812\n",
      "Trainable params: 24,441,924\n",
      "Non-trainable params: 21,888\n",
      "_________________________________________________________________\n"
     ]
    }
   ],
   "source": [
    "model = Sequential()\n",
    "model.add(mobilenet)\n",
    "model.add(Flatten())\n",
    "model.add(Dense(256, activation='relu'))\n",
    "model.add(Dropout(0.5))\n",
    "model.add(Dense(num_classes, activation='softmax'))\n",
    "model.summary()\n",
    "sgd = SGD(lr=0.0001, decay=1e-6, momentum=0.9, nesterov=True)\n",
    "model.compile(loss='binary_crossentropy', optimizer=sgd, metrics=['accuracy'])"
   ]
  },
  {
   "cell_type": "markdown",
   "metadata": {},
   "source": [
    "Now we need to prepare the training and testing dataset, we assign dogs to class 0 and cats to class 1."
   ]
  },
  {
   "cell_type": "code",
   "execution_count": null,
   "metadata": {},
   "outputs": [],
   "source": []
  },
  {
   "cell_type": "code",
   "execution_count": 21,
   "metadata": {},
   "outputs": [
    {
     "name": "stdout",
     "output_type": "stream",
     "text": [
      "Training label shape:  (3200, 4)\n",
      "Testing label shape:  (800, 4)\n",
      "Training data shape:  (3200, 299, 299, 3)\n",
      "Testing data shape:  (800, 299, 299, 3)\n"
     ]
    }
   ],
   "source": [
    "# Remove single-dimensional entries from the shape of an array.\n",
    "# data_train = y_train\n",
    "# data_test = y_test\n",
    "# label_train = X_train\n",
    "# label_test = X_test\n",
    "\n",
    "data_train = X_train\n",
    "data_test = X_test\n",
    "label_train = y_train\n",
    "label_test = y_test\n",
    "\n",
    "print(\"Training label shape: \", label_train.shape)\n",
    "print(\"Testing label shape: \", label_test.shape)\n",
    "print(\"Training data shape: \", data_train.shape)\n",
    "print(\"Testing data shape: \", data_test.shape)"
   ]
  },
  {
   "cell_type": "code",
   "execution_count": 22,
   "metadata": {},
   "outputs": [],
   "source": [
    "# early stop\n",
    "early_stopping_monitor = EarlyStopping(patience=3)\n",
    "\n",
    "\n",
    "#history = model.fit(data_train, label_train, \n",
    "#                    validation_split=0.2, \n",
    "#                    batch_size=4, epochs=10, \n",
    "#                    callbacks=[early_stopping_monitor])"
   ]
  },
  {
   "cell_type": "markdown",
   "metadata": {},
   "source": [
    "Now start traning"
   ]
  },
  {
   "cell_type": "code",
   "execution_count": null,
   "metadata": {},
   "outputs": [
    {
     "name": "stdout",
     "output_type": "stream",
     "text": [
      "Train on 2560 samples, validate on 640 samples\n",
      "Epoch 1/10\n",
      "2560/2560 [==============================] - 108s 42ms/step - loss: 0.5416 - accuracy: 0.7744 - val_loss: 0.2584 - val_accuracy: 0.8973\n",
      "Epoch 2/10\n",
      "2560/2560 [==============================] - 100s 39ms/step - loss: 0.2984 - accuracy: 0.8683 - val_loss: 0.1835 - val_accuracy: 0.9277\n",
      "Epoch 3/10\n",
      "2560/2560 [==============================] - 100s 39ms/step - loss: 0.2105 - accuracy: 0.9142 - val_loss: 0.1570 - val_accuracy: 0.9301\n",
      "Epoch 4/10\n",
      "2560/2560 [==============================] - 100s 39ms/step - loss: 0.1760 - accuracy: 0.9322 - val_loss: 0.1464 - val_accuracy: 0.9391\n",
      "Epoch 5/10\n",
      "2560/2560 [==============================] - 100s 39ms/step - loss: 0.1292 - accuracy: 0.9495 - val_loss: 0.1476 - val_accuracy: 0.9359\n",
      "Epoch 6/10\n",
      "1924/2560 [=====================>........] - ETA: 23s - loss: 0.1065 - accuracy: 0.9605"
     ]
    }
   ],
   "source": [
    "# train model\n",
    "history = model.fit(data_train, label_train, validation_split=0.2, batch_size=4, epochs=10)"
   ]
  },
  {
   "cell_type": "code",
   "execution_count": null,
   "metadata": {},
   "outputs": [],
   "source": [
    "# save model\n",
    "model.save(\"food_model3.h5\")"
   ]
  },
  {
   "cell_type": "code",
   "execution_count": null,
   "metadata": {},
   "outputs": [],
   "source": [
    "# summarize history for accuracy\n",
    "plt.plot(history.history['accuracy'])\n",
    "plt.plot(history.history['val_accuracy'])\n",
    "plt.title('model accuracy')\n",
    "plt.ylabel('accuracy')\n",
    "plt.xlabel('epoch')\n",
    "plt.legend(['train', 'test'], loc='upper left')\n",
    "plt.show()\n"
   ]
  },
  {
   "cell_type": "markdown",
   "metadata": {},
   "source": [
    "Now we would like to see the performance of the model during training"
   ]
  },
  {
   "cell_type": "code",
   "execution_count": null,
   "metadata": {},
   "outputs": [],
   "source": [
    "print(history.history.keys())\n",
    "\n",
    "\n",
    "# summarize history for loss\n",
    "plt.plot(history.history['loss'])\n",
    "plt.plot(history.history['val_loss'])\n",
    "plt.title('model loss')\n",
    "plt.ylabel('loss')\n",
    "plt.xlabel('epoch')\n",
    "plt.legend(['train', 'test'], loc='upper left')\n",
    "plt.show()"
   ]
  },
  {
   "cell_type": "code",
   "execution_count": null,
   "metadata": {},
   "outputs": [],
   "source": [
    "test_result = model.predict(data_test, batch_size=4)"
   ]
  },
  {
   "cell_type": "code",
   "execution_count": null,
   "metadata": {},
   "outputs": [],
   "source": [
    "test_result[1]"
   ]
  },
  {
   "cell_type": "code",
   "execution_count": null,
   "metadata": {},
   "outputs": [],
   "source": [
    "_fig, _axes = plt.subplots(4,4)\n",
    "\n",
    "_fig.set_figheight(24)\n",
    "_fig.set_figwidth(24)\n",
    "\n",
    "\n",
    "for i in range(4):\n",
    "    for j in range(4):\n",
    "        img = data_test[i*3+j]\n",
    "        _axes[i,j].imshow(img)\n",
    "        if np.argmax(test_result[i*3+j]) == 0:\n",
    "            _axes[i,j].set_title(\"Prediction  {}\".format('apple pie'))\n",
    "        elif np.argmax(test_result[i*3+j]) == 1:\n",
    "            _axes[i,j].set_title(\"Prediction  {}\".format('waffle'))\n",
    "        elif np.argmax(test_result[i*3+j]) == 2:\n",
    "            _axes[i,j].set_title(\"Prediction  {}\".format('churro')) "
   ]
  },
  {
   "cell_type": "markdown",
   "metadata": {},
   "source": [
    "Now let's plot some of the wrong classifications"
   ]
  },
  {
   "cell_type": "code",
   "execution_count": null,
   "metadata": {},
   "outputs": [],
   "source": []
  },
  {
   "cell_type": "code",
   "execution_count": null,
   "metadata": {},
   "outputs": [],
   "source": []
  },
  {
   "cell_type": "code",
   "execution_count": null,
   "metadata": {},
   "outputs": [],
   "source": []
  }
 ],
 "metadata": {
  "kernelspec": {
   "display_name": "Python 3",
   "language": "python",
   "name": "python3"
  },
  "language_info": {
   "codemirror_mode": {
    "name": "ipython",
    "version": 3
   },
   "file_extension": ".py",
   "mimetype": "text/x-python",
   "name": "python",
   "nbconvert_exporter": "python",
   "pygments_lexer": "ipython3",
   "version": "3.6.10"
  }
 },
 "nbformat": 4,
 "nbformat_minor": 4
}
