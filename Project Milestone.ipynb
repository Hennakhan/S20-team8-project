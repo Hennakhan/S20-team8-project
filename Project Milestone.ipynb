{
 "cells": [
  {
   "cell_type": "markdown",
   "metadata": {},
   "source": [
    "# Image Recognition Software for a Web app"
   ]
  },
  {
   "cell_type": "markdown",
   "metadata": {},
   "source": [
    "##### Members: Heena Khan, James Phillips, Luis Chunga, Elijah Barbour, Mason Thieman, Matthew Radice, Steven Sheffey,"
   ]
  },
  {
   "cell_type": "markdown",
   "metadata": {},
   "source": [
    "## Project Milestones"
   ]
  },
  {
   "cell_type": "markdown",
   "metadata": {},
   "source": [
    "| Deliverable | Percent Complete | Estimated Completion Date | Percent Complete by Next Milestone |\n",
    "| --- | --- | --- | --- |\n",
    "| Code | 15% | Apr 17 | 40% |\n",
    "| Paper | 5% | Apr 24 | 30% |\n",
    "| Demo | 0% | May 1 | 5% |\n",
    "| Presentation | 0% | May 5 | 5% |"
   ]
  },
  {
   "cell_type": "markdown",
   "metadata": {},
   "source": [
    "#### 1. What deliverable goals established in the last milestone report were accomplished to the anticipated percentage?\n",
    "\n",
    "1. We have spent some time on understanding convolutional network, so that everybody is on the same page when we start with coding. \n",
    "2. We are following MVP (Minimum viable product) method of development. We created a small prototype of our project with a small dataset having 3 classes, it is giving us good accuracy and results.\n",
    "3. We have started with our paper, but we are still at the initial stage."
   ]
  },
  {
   "cell_type": "markdown",
   "metadata": {},
   "source": [
    "#### 2. What deliverable goals established in the last milestone report were were not accomplished to the anticipated percentage?\n",
    "\n",
    "1. Currently our model can identify three classes waffle, apple pie and churros. We were expecting to get our model working on the entire dataset by now, but we are facing some glitches on that.\n",
    "\n",
    "2. Our model does not identify all the classes in one image. This is MVP for our next milestone. \n"
   ]
  },
  {
   "cell_type": "markdown",
   "metadata": {},
   "source": [
    "#### 3. What are the main deliverable goals to meet before the next milestone report, and who is working on them?\n",
    "\n",
    "We have divided our work making sure everyone is involved and learning. The team is still learning CNN and TensorFlow along with their below duties.\n",
    "1. Luis and Heena are working on CNN model to make it work for the entire dataset.\n",
    "2. James, Elijah and Matthew are studying and writing comparison between our CNN model and the model used in the paper [1]\n",
    "2. Steven will be reviewing and testing our model.\n",
    "4. Mason is working on the presentation. "
   ]
  },
  {
   "cell_type": "markdown",
   "metadata": {},
   "source": [
    "#### Reference"
   ]
  },
  {
   "cell_type": "markdown",
   "metadata": {},
   "source": [
    "[1] Lukas Bossard, Matthieu Guillaumin, and Luc Van Gool. Food-101 – mining discrimi-native components with random forests. In European Conference on Computer Vision,2014"
   ]
  }
 ],
 "metadata": {
  "kernelspec": {
   "display_name": "Python 3",
   "language": "python",
   "name": "python3"
  },
  "language_info": {
   "codemirror_mode": {
    "name": "ipython",
    "version": 3
   },
   "file_extension": ".py",
   "mimetype": "text/x-python",
   "name": "python",
   "nbconvert_exporter": "python",
   "pygments_lexer": "ipython3",
   "version": "3.7.6"
  }
 },
 "nbformat": 4,
 "nbformat_minor": 4
}
